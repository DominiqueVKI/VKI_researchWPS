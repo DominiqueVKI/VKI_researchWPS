{
 "cells": [
  {
   "cell_type": "markdown",
   "metadata": {},
   "source": [
    "# Numerical expression inference problem: numerical constant finding with ephemeral numerical constant (ENC)\n",
    "In this example, we aim to identify a mathematicalfunction $f$ from the given input-ouput data such that the function $f$ can produce the expected ouput given a certain input. This is a typical [symbolic regression](https://en.wikipedia.org/wiki/Symbolic_regression) problem:\n",
    "\n",
    "> Symbolic regression is a type of regression analysis that searches the space of mathematical expressions to find the model that best fits a given dataset, both in terms of accuracy and simplicity.\n",
    "\n",
    "which is most commonly solved with genetic programming and its variant, gene expression programming (GEP), presented here. \n",
    "\n",
    "Before continuing this example, you'd better first go through the two fundamental tutorials listed below to get familiar with GEP and *geppy*:\n",
    "+ [Introduction to gene expression programming](https://geppy.readthedocs.io/en/latest/intro_GEP.html)\n",
    "+ [Overview of geppy for Gene Expression Programming (GEP)](https://geppy.readthedocs.io/en/latest/overview.html)\n",
    "\n",
    "The main difference of this problem w.r.t the [Boolean function identification](Boolean_function_identification.ipynb) problem is that generally a mathematical model involves constant coefficients, which is more challenging for both genetic programming (GP) and GEP. The standard way to handle numerical constants in GP is to use ephemeral numerical constants (ENCs), whose value are initialized randomly and can be updated during the evolution process. Though experimental results show that the GEP-RNC algorithm is more efficient than using ENCs, it is still supported by *geppy* and can do the work for simple problems, like models which only involve integer constants. To learn about the GEP-RNC algorithm recommended for numerical constant finding in GEP, please check the example [GEP-RNC for numerical expression inference](./numerical_expression_inference.ipynb).\n",
    "\n",
    "The key to adopt ENCs in *geppy* is:\n",
    "+ add one or more ephemerals with `PrimitiveSet.add_ephemeral` (usually one is enough)\n",
    "+ [optional] update the ephemerals during evolution by the `mutate_uniform_ephemeral` operator."
   ]
  },
  {
   "cell_type": "code",
   "execution_count": 1,
   "metadata": {},
   "outputs": [],
   "source": [
    "import geppy as gep\n",
    "from deap import creator, base, tools\n",
    "import numpy as np\n",
    "import random\n",
    "\n",
    "# for reproduction\n",
    "s = 0\n",
    "random.seed(s)\n",
    "np.random.seed(s)"
   ]
  },
  {
   "cell_type": "markdown",
   "metadata": {},
   "source": [
    "# Synthetic dataset\n",
    "\n",
    "For this simple task, we first choose a ground truth function $f$ to generate a dataset $D$. Then, 50 input-output exampels are generated randomly."
   ]
  },
  {
   "cell_type": "code",
   "execution_count": 2,
   "metadata": {},
   "outputs": [],
   "source": [
    "def f(x):\n",
    "    \"\"\"Ground truth function\"\"\"\n",
    "    return -2 * x ** 2 + 11 * x + 13"
   ]
  },
  {
   "cell_type": "code",
   "execution_count": 3,
   "metadata": {},
   "outputs": [],
   "source": [
    "n_cases = 100\n",
    "X = np.random.uniform(-10, 10, size=n_cases)   # random numbers in range [-10, 10)\n",
    "Y = f(X) + np.random.normal(size=n_cases)   # Gaussian noise"
   ]
  },
  {
   "cell_type": "markdown",
   "metadata": {},
   "source": [
    "# Creating the primitives set\n",
    "The first step in GEP (or GP as well) is to specify the primitive set, which contains the elementary building blocks to formulate the model. For this problem, we have:\n",
    "+ function set: the standard arithmetic operators addition (+), subtraction (-), multiplication (*), and division (/).\n",
    "+ terminal set: only the single input 'x' and random numerical constants (RNC).\n",
    "\n",
    "NOTE:\n",
    "\n",
    "- We define a *protected division* to avoid dividing by zero.\n",
    "- Even there may be multiple RNCs in the model, we only need to call `PrimitiveSet.add_rnc` once."
   ]
  },
  {
   "cell_type": "code",
   "execution_count": 4,
   "metadata": {},
   "outputs": [],
   "source": [
    "def protected_div(x1, x2):\n",
    "    if abs(x2) < 1e-6:\n",
    "        return 1\n",
    "    return x1 / x2"
   ]
  },
  {
   "cell_type": "code",
   "execution_count": 5,
   "metadata": {},
   "outputs": [],
   "source": [
    "import operator \n",
    "\n",
    "pset = gep.PrimitiveSet('Main', input_names=['x'])\n",
    "pset.add_function(operator.add, 2)\n",
    "pset.add_function(operator.sub, 2)\n",
    "pset.add_function(operator.mul, 2)\n",
    "pset.add_function(protected_div, 2)\n",
    "pset.add_ephemeral_terminal(name='enc', gen=lambda: random.randint(-10, 10)) # each ENC is a random integer within [-10, 10]"
   ]
  },
  {
   "cell_type": "markdown",
   "metadata": {},
   "source": [
    "# Create the individual and population\n",
    "Our objective is to **minimize** the MSE (mean squared error) for data fitting.\n",
    "## Define the indiviudal class, a subclass of *gep.Chromosome*"
   ]
  },
  {
   "cell_type": "code",
   "execution_count": 6,
   "metadata": {},
   "outputs": [],
   "source": [
    "from deap import creator, base, tools\n",
    "\n",
    "creator.create(\"FitnessMin\", base.Fitness, weights=(-1,))  # to minimize the objective (fitness)\n",
    "creator.create(\"Individual\", gep.Chromosome, fitness=creator.FitnessMin)"
   ]
  },
  {
   "cell_type": "markdown",
   "metadata": {},
   "source": [
    "## Register the individual and population creation operations\n",
    "In DEAP, it is recommended to register the operations used in evolution into a *toolbox* to make full use of DEAP functionality. The configuration of individuals in this problem is:\n",
    "+ head length: 6\n",
    "+ number of genes in each chromosome: 2\n",
    "\n",
    "Generally, more complicated problems require a larger head length and longer chromosomes formed with more genes."
   ]
  },
  {
   "cell_type": "code",
   "execution_count": 7,
   "metadata": {},
   "outputs": [],
   "source": [
    "h = 7 # head length\n",
    "n_genes = 2   # number of genes in a chromosome"
   ]
  },
  {
   "cell_type": "code",
   "execution_count": 8,
   "metadata": {},
   "outputs": [],
   "source": [
    "toolbox = gep.Toolbox()\n",
    "toolbox.register('gene_gen', gep.Gene, pset=pset, head_length=h)\n",
    "toolbox.register('individual', creator.Individual, gene_gen=toolbox.gene_gen, n_genes=n_genes, linker=operator.add)\n",
    "toolbox.register(\"population\", tools.initRepeat, list, toolbox.individual)\n",
    "\n",
    "# compile utility: which translates an individual into an executable function (Lambda)\n",
    "toolbox.register('compile', gep.compile_, pset=pset)"
   ]
  },
  {
   "cell_type": "markdown",
   "metadata": {},
   "source": [
    "# Define the fitness evaluation function\n",
    "In DEAP, the single objective optimization problem is just a special case of more general multiobjective ones. Since *geppy* is built on top of DEAP, it conforms to this convention. **Even if the fitness only contains one measure, keep in mind that DEAP stores it as an iterable.** \n",
    "\n",
    "Knowing that, you can understand why the evaluation function must return a tuple value (even if it is a 1-tuple). That's also why we set ``weights=(-1,)`` when creating the ``FitnessMax`` class."
   ]
  },
  {
   "cell_type": "code",
   "execution_count": 9,
   "metadata": {},
   "outputs": [],
   "source": [
    "def evaluate(individual):\n",
    "    \"\"\"Evalute the fitness of an individual: MAE (mean absolute error)\"\"\"\n",
    "    func = toolbox.compile(individual)\n",
    "    Yp = np.array(list(map(func, X)))\n",
    "    return np.mean(np.abs(Y - Yp)),"
   ]
  },
  {
   "cell_type": "code",
   "execution_count": 10,
   "metadata": {},
   "outputs": [],
   "source": [
    "toolbox.register('evaluate', evaluate)"
   ]
  },
  {
   "cell_type": "markdown",
   "metadata": {},
   "source": [
    "# Register genetic operators\n",
    "Compared with GP and other genetic algorithms, GEP has its own set of genetic operators aside from common mutation and crossover. For details, please check the tutorial [Introduction to gene expression programming](https://geppy.readthedocs.io/en/latest/intro_GEP.html).\n",
    "\n",
    "In the following code, the selection operator is ``tools.selTournament`` provided by DEAP, while all other operators are specially designed for GEP in *geppy*."
   ]
  },
  {
   "cell_type": "code",
   "execution_count": 11,
   "metadata": {},
   "outputs": [],
   "source": [
    "toolbox.register('select', tools.selTournament, tournsize=3)\n",
    "# 1. general operators\n",
    "toolbox.register('mut_uniform', gep.mutate_uniform, pset=pset, ind_pb=0.05, pb=1)\n",
    "toolbox.register('mut_invert', gep.invert, pb=0.1)\n",
    "toolbox.register('mut_is_transpose', gep.is_transpose, pb=0.1)\n",
    "toolbox.register('mut_ris_transpose', gep.ris_transpose, pb=0.1)\n",
    "toolbox.register('mut_gene_transpose', gep.gene_transpose, pb=0.1)\n",
    "toolbox.register('cx_1p', gep.crossover_one_point, pb=0.4)\n",
    "toolbox.register('cx_2p', gep.crossover_two_point, pb=0.2)\n",
    "toolbox.register('cx_gene', gep.crossover_gene, pb=0.1)\n",
    "toolbox.register('mut_ephemeral', gep.mutate_uniform_ephemeral, ind_pb='1p')  # 1p: expected one point mutation in an individual\n",
    "toolbox.pbs['mut_ephemeral'] = 1  # we can also give the probability via the pbs property"
   ]
  },
  {
   "cell_type": "markdown",
   "metadata": {},
   "source": [
    "# Statistics to be inspected\n",
    "We often need to monitor of progress of an evolutionary program. DEAP offers two classes to handle the boring work of recording statistics. Details are presented in [Computing statistics](http://deap.readthedocs.io/en/master/tutorials/basic/part3.html). In the following, we are intereted in the average/standard deviation/min/max of all the individuals' fitness in each generation."
   ]
  },
  {
   "cell_type": "code",
   "execution_count": 12,
   "metadata": {},
   "outputs": [],
   "source": [
    "stats = tools.Statistics(key=lambda ind: ind.fitness.values[0])\n",
    "stats.register(\"avg\", np.mean)\n",
    "stats.register(\"std\", np.std)\n",
    "stats.register(\"min\", np.min)\n",
    "stats.register(\"max\", np.max)"
   ]
  },
  {
   "cell_type": "markdown",
   "metadata": {},
   "source": [
    "# Launch evolution\n",
    "We make use of *geppy*'s builtin algorithm ``gep_rnc`` here to perform the GEP-RNC evolution. A special class from DEAP, `HallOfFame`, is adopted to store the best individuals ever found. Besides, it should be noted that in GEP [*elitism*](https://en.wikipedia.org/wiki/Genetic_algorithm#Elitism) is highly recommended because some genetic operators in GEP are destructive and may destroy the best individual we have evolved."
   ]
  },
  {
   "cell_type": "code",
   "execution_count": 13,
   "metadata": {},
   "outputs": [
    {
     "name": "stdout",
     "output_type": "stream",
     "text": [
      "gen\tnevals\tavg    \tstd    \tmin    \tmax    \n",
      "0  \t100   \t123.653\t258.663\t36.2886\t2210.09\n",
      "1  \t99    \t123.275\t421.45 \t36.2886\t4218.21\n",
      "2  \t99    \t76.8484\t36.3177\t27.2292\t270.464\n",
      "3  \t99    \t84.1495\t55.2211\t27.2292\t503.76 \n",
      "4  \t99    \t75.0767\t50.3076\t25.7879\t464.636\n",
      "5  \t99    \t67.7947\t31.7203\t25.7879\t247.595\n",
      "6  \t99    \t70.6593\t49.5508\t19.4266\t433.013\n",
      "7  \t99    \t86.7988\t170.453\t19.4266\t1735.32\n",
      "8  \t99    \t89.0119\t103.553\t5.79722\t737.448\n",
      "9  \t99    \t70.2222\t76.8899\t5.79722\t766.961\n",
      "10 \t99    \t61.3173\t33.9059\t5.45261\t202.068\n",
      "11 \t99    \t63.8959\t58.2055\t1.26424\t448.941\n",
      "12 \t99    \t59.4774\t60.92  \t0.862385\t417.644\n",
      "13 \t99    \t73.1502\t124.738\t0.862385\t1098.04\n",
      "14 \t99    \t64.4326\t108.114\t0.862385\t1070.77\n",
      "15 \t99    \t61.571 \t75.2669\t0.862385\t472.563\n",
      "16 \t99    \t68.7805\t96.52  \t0.862385\t603.352\n",
      "17 \t99    \t83.1265\t134.055\t0.862385\t856.275\n",
      "18 \t99    \t65.4132\t74.0187\t0.862385\t577.229\n",
      "19 \t99    \t64.1222\t77.6681\t0.862385\t585.138\n",
      "20 \t99    \t53.3202\t58.9018\t0.862385\t421.891\n",
      "21 \t99    \t573.538\t5035.18\t0.862385\t50668  \n",
      "22 \t99    \t60.5887\t85.4604\t0.862385\t632.947\n",
      "23 \t99    \t50.0559\t41.3071\t0.862385\t255.175\n",
      "24 \t99    \t69.5527\t81.5778\t0.862385\t595.23 \n",
      "25 \t99    \t63.242 \t57.1979\t0.862385\t371.994\n",
      "26 \t99    \t60.9192\t68.0205\t0.862385\t513.742\n",
      "27 \t99    \t81.8382\t197.743\t0.862385\t1969.07\n",
      "28 \t99    \t59.8763\t50.1762\t0.862385\t323.776\n",
      "29 \t99    \t72.5168\t85.7226\t0.862385\t632.751\n",
      "30 \t99    \t65.0663\t75.5301\t0.862385\t631.197\n",
      "31 \t99    \t64.0843\t96.3009\t0.862385\t739.809\n",
      "32 \t99    \t130.116\t480.573\t0.862385\t4768.18\n",
      "33 \t99    \t52.4609\t33.0507\t0.862385\t236.507\n",
      "34 \t99    \t62.663 \t91.2869\t0.862385\t761.688\n",
      "35 \t99    \t80.7088\t210.564\t0.862385\t2096.94\n",
      "36 \t99    \t66.1143\t76.0229\t0.862385\t615.364\n",
      "37 \t99    \t61.4674\t68.0698\t0.862385\t627.11 \n",
      "38 \t99    \t79.3805\t132.108\t0.862385\t849.893\n",
      "39 \t99    \t54.942 \t60.6943\t0.862385\t505.626\n",
      "40 \t99    \t81.9495\t220.483\t0.862385\t2201.35\n",
      "41 \t99    \t58.6053\t63.8522\t0.862385\t394.637\n",
      "42 \t99    \t52.1176\t32.5744\t0.862385\t155.862\n",
      "43 \t99    \t88.9874\t146.81 \t0.862385\t1066.28\n",
      "44 \t99    \t67.7197\t107.878\t0.862385\t705.165\n",
      "45 \t99    \t63.3258\t67.7471\t0.862385\t437.404\n",
      "46 \t99    \t60.4968\t57.1344\t0.862385\t319.988\n",
      "47 \t99    \t79.3195\t220.268\t0.862385\t2105.32\n",
      "48 \t99    \t119.632\t365.792\t0.862385\t3341.67\n",
      "49 \t99    \t58.3838\t81.8188\t0.862385\t781.002\n",
      "50 \t99    \t69.416 \t113.095\t0.862385\t861.718\n",
      "51 \t99    \t52.6265\t78.4697\t0.862385\t707.529\n",
      "52 \t99    \t48.8451\t55.4845\t0.862385\t319.674\n",
      "53 \t99    \t63.0794\t105.637\t0.862385\t825.164\n",
      "54 \t99    \t61.238 \t87.3167\t0.862385\t618.491\n",
      "55 \t99    \t54.4784\t60.3176\t0.862385\t410.589\n",
      "56 \t99    \t57.626 \t67.4313\t0.862385\t595.137\n",
      "57 \t99    \t48.8574\t49.0248\t0.862385\t309.729\n",
      "58 \t99    \t127.075\t393.289\t0.862385\t3759.79\n",
      "59 \t99    \t85.0028\t274.536\t0.862385\t2693.44\n",
      "60 \t99    \t51.4694\t75.0236\t0.862385\t600.543\n",
      "61 \t99    \t276.096\t2149   \t0.862385\t21650.7\n",
      "62 \t99    \t64.0032\t94.073 \t0.862385\t836.996\n",
      "63 \t99    \t58.4576\t79.9311\t0.862385\t520.051\n",
      "64 \t99    \t70.2153\t108.815\t0.862385\t776.067\n",
      "65 \t99    \t55.0738\t63.8671\t0.862385\t445.287\n",
      "66 \t99    \t83.1406\t136.299\t0.862385\t1079.74\n",
      "67 \t99    \t55.853 \t61.9867\t0.862385\t448.867\n",
      "68 \t99    \t64.0752\t93.9893\t0.862385\t574.629\n",
      "69 \t99    \t62.9937\t83.1925\t0.862385\t530.953\n",
      "70 \t99    \t55.8015\t76.7849\t0.862385\t385.256\n",
      "71 \t99    \t55.8818\t58.948 \t0.862385\t369.885\n",
      "72 \t99    \t52.6353\t48.2641\t0.862385\t330.507\n",
      "73 \t99    \t67.8463\t118.785\t0.862385\t834.618\n",
      "74 \t99    \t65.3767\t99.6621\t0.862385\t771.004\n",
      "75 \t99    \t56.9948\t77.4318\t0.862385\t696.492\n",
      "76 \t99    \t52.8823\t71.2047\t0.862385\t520.633\n",
      "77 \t99    \t58.9633\t89.5836\t0.862385\t668.745\n",
      "78 \t99    \t57.9863\t80.6981\t0.862385\t531.144\n",
      "79 \t99    \t63.5765\t65.6692\t0.862385\t527.248\n",
      "80 \t99    \t52.5849\t52.2558\t0.862385\t435.439\n",
      "81 \t99    \t67.8474\t112.625\t0.862385\t931.541\n",
      "82 \t99    \t55.5307\t71.3903\t0.862385\t575.699\n",
      "83 \t99    \t55.9834\t92.6953\t0.862385\t850.815\n",
      "84 \t99    \t63.6744\t74.0866\t0.862385\t469.523\n",
      "85 \t99    \t58.8834\t65.9488\t0.862385\t447.325\n",
      "86 \t99    \t59.337 \t74.6109\t0.862385\t605.262\n",
      "87 \t99    \t53.4536\t50.6087\t0.862385\t265.442\n",
      "88 \t99    \t61.4969\t71.0792\t0.862385\t443.627\n",
      "89 \t99    \t57.0788\t66.0612\t0.862385\t542.434\n",
      "90 \t99    \t49.4606\t62.1318\t0.862385\t514.579\n",
      "91 \t99    \t57.2235\t76.7996\t0.862385\t544.638\n",
      "92 \t99    \t66.7849\t73.0658\t0.862385\t409.742\n",
      "93 \t99    \t68.6676\t111.663\t0.862385\t839.723\n",
      "94 \t99    \t63.841 \t90.7321\t0.862385\t604.985\n",
      "95 \t99    \t67.4231\t119.386\t0.862385\t928.094\n",
      "96 \t99    \t66.2418\t75.329 \t0.862385\t443.483\n",
      "97 \t99    \t60.4407\t84.9848\t0.862385\t822.374\n",
      "98 \t99    \t68.4776\t80.7378\t0.862385\t735.692\n",
      "99 \t99    \t66.085 \t93.401 \t0.862385\t651.281\n",
      "100\t99    \t61.7715\t69.688 \t0.862385\t400.152\n"
     ]
    }
   ],
   "source": [
    "# size of population and number of generations\n",
    "n_pop = 100\n",
    "n_gen = 100\n",
    "\n",
    "pop = toolbox.population(n=n_pop)\n",
    "hof = tools.HallOfFame(3)   # only record the best three individuals ever found in all generations\n",
    "\n",
    "# start evolution\n",
    "pop, log = gep.gep_simple(pop, toolbox, n_generations=n_gen, n_elites=1,\n",
    "                          stats=stats, hall_of_fame=hof, verbose=True)"
   ]
  },
  {
   "cell_type": "markdown",
   "metadata": {},
   "source": [
    "**Let's check the best individuals ever evolved.**"
   ]
  },
  {
   "cell_type": "code",
   "execution_count": 14,
   "metadata": {},
   "outputs": [
    {
     "name": "stdout",
     "output_type": "stream",
     "text": [
      "add(\n",
      "\tsub(8, mul(add(x, add(-10, x)), x)),\n",
      "\tadd(5, x)\n",
      ")\n"
     ]
    }
   ],
   "source": [
    "print(hof[0])"
   ]
  },
  {
   "cell_type": "markdown",
   "metadata": {},
   "source": [
    "# *[optional]* Post-processing: simplification and visualization\n",
    "## Symbolic simplification of the final solution\n",
    "The original solution seems a little complicated, which may contain many redundancies, for example, `protected_div(x, x)` is just 1. We can perform symbolic simplification of the final result by `geppy.simplify` which depends on `sympy` package."
   ]
  },
  {
   "cell_type": "code",
   "execution_count": 15,
   "metadata": {},
   "outputs": [
    {
     "name": "stdout",
     "output_type": "stream",
     "text": [
      "Symplified best individual: \n",
      "-2*x*(x - 5) + x + 13\n"
     ]
    }
   ],
   "source": [
    "best_ind = hof[0]\n",
    "symplified_best = gep.simplify(best_ind)\n",
    "print('Symplified best individual: ')\n",
    "print(symplified_best)"
   ]
  },
  {
   "cell_type": "markdown",
   "metadata": {},
   "source": [
    "As we can see from the above simplified expression, the *truth model* has been successfully found. Due to the existence of Gaussian noise, the minimum mean absolute error （MAE) is still not zero even the best individual represents the true model."
   ]
  },
  {
   "cell_type": "markdown",
   "metadata": {},
   "source": [
    "## Visualization\n",
    "If you are interested in the expression tree corresponding to the individual, i.e., the genotype/phenotype system, *geppy* supports tree visualization by the `graph` and the `export_expression_tree` functions:\n",
    "\n",
    "- `graph` only outputs the nodes and links information to describe the tree topology, with which you can render the tree with tools you like;\n",
    "- `export_expression_tree` implements tree visualization with data generated by `graph` internally using the `graphviz` package. "
   ]
  },
  {
   "cell_type": "code",
   "execution_count": 16,
   "metadata": {},
   "outputs": [],
   "source": [
    " # we want use symbol labels instead of words in the tree graph\n",
    "rename_labels = {'add': '+', 'sub': '-', 'mul': '*', 'protected_div': '/'}  \n",
    "gep.export_expression_tree(best_ind, rename_labels, 'data/numerical_expression_tree.png')"
   ]
  },
  {
   "cell_type": "code",
   "execution_count": 17,
   "metadata": {},
   "outputs": [
    {
     "data": {
      "image/png": "[encoded data removed]",
      "text/plain": [
       "<IPython.core.display.Image object>"
      ]
     },
     "execution_count": 17,
     "metadata": {},
     "output_type": "execute_result"
    }
   ],
   "source": [
    "# show the above image here for convenience\n",
    "from IPython.display import Image\n",
    "Image(filename='data/numerical_expression_tree.png') "
   ]
  },
  {
   "cell_type": "markdown",
   "metadata": {},
   "source": [
    "# Discussion\n",
    "If only integer constants are involved, then the GEP-RNC algorithm and the ENC-based algorithm can both be adopted. However, generally the GEP-RNC algorithm is more effective.\n",
    "\n",
    "In other cases where the model is more complicated involving real coefficients and constants, then both of the above two algorithms will have difficulty in optimizing these constants. A better way is to incorporate a local optimization into GEP dedicated to constant number optimization. \n",
    "\n",
    "You may like to compare this solution with the one solved with GEP-RNC [GEP-RNC for numerical expression inference](./numerical_expression_inference.ipynb)."
   ]
  }
 ],
 "metadata": {
  "kernelspec": {
   "display_name": "Python 3",
   "language": "python",
   "name": "python3"
  },
  "language_info": {
   "codemirror_mode": {
    "name": "ipython",
    "version": 3
   },
   "file_extension": ".py",
   "mimetype": "text/x-python",
   "name": "python",
   "nbconvert_exporter": "python",
   "pygments_lexer": "ipython3",
   "version": "3.6.5"
  }
 },
 "nbformat": 4,
 "nbformat_minor": 2
}
