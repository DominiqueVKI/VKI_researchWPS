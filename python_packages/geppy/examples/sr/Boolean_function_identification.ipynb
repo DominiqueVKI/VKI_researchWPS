{
 "cells": [
  {
   "cell_type": "markdown",
   "metadata": {},
   "source": [
    "# Boolean function identification problem\n",
    "In this example, we aim to identify a Boolean function $f$ from the given binary input-ouput data such that the function $f$ can produce the expected ouput given a certain input. This is a typical [symbolic regression](https://en.wikipedia.org/wiki/Symbolic_regression) problem:\n",
    "\n",
    "> Symbolic regression is a type of regression analysis that searches the space of mathematical expressions to find the model that best fits a given dataset, both in terms of accuracy and simplicity.\n",
    "\n",
    "which is most commonly solved with genetic programming and its variant, gene expression programming (GEP), presented here. \n",
    "\n",
    "Before continuing this example, you'd better first go through the two fundamental tutorials listed below to get familiar with GEP and *geppy*:\n",
    "+ [Introduction to gene expression programming](https://geppy.readthedocs.io/en/latest/intro_GEP.html)\n",
    "+ [Overview of geppy for Gene Expression Programming (GEP)](https://geppy.readthedocs.io/en/latest/overview.html)\n",
    "\n",
    "To check the detailed documentation of each function/class in *geppy*, please refer to [library reference](https://geppy.readthedocs.io/en/latest/#library-reference)."
   ]
  },
  {
   "cell_type": "markdown",
   "metadata": {},
   "source": [
    "# Synthetic dataset\n",
    "\n",
    "For this simple task, we first choose a ground truth Boolean function $f$ to generate a dataset $D$. Supposing there are four possible inputs $a, b, c, d$, the dataset $D$ contains 16 data samples (input-ouput pairs) in total."
   ]
  },
  {
   "cell_type": "code",
   "execution_count": 1,
   "metadata": {},
   "outputs": [],
   "source": [
    "def f(a, b, c, d):\n",
    "    \"\"\" The true model, which only involves three inputs on purpose.\"\"\"\n",
    "    return (a and d) or not c"
   ]
  },
  {
   "cell_type": "code",
   "execution_count": 2,
   "metadata": {},
   "outputs": [],
   "source": [
    "import itertools\n",
    "\n",
    "# generate the training set which contains all the 16 samples\n",
    "X = []\n",
    "Y = []\n",
    "for a, b, c, d in itertools.product([True, False], repeat=4):\n",
    "    X.append((a, b, c, d))\n",
    "    Y.append(f(a, b, c, d))"
   ]
  },
  {
   "cell_type": "markdown",
   "metadata": {},
   "source": [
    "# Creating the primitives set\n",
    "The first step in GEP (or GP as well) is to specify the primitive set, which contains the elementary building blocks to formulate the model. For this Boolean function problem, no constant terminals are necessary. Instead, only the three Boolean logic operators and the four input terminals are needed."
   ]
  },
  {
   "cell_type": "code",
   "execution_count": 3,
   "metadata": {},
   "outputs": [],
   "source": [
    "import geppy as gep\n",
    "import operator\n",
    "\n",
    "pset = gep.PrimitiveSet('Main', input_names=['a', 'b', 'c', 'd'])\n",
    "pset.add_function(operator.and_, 2)\n",
    "pset.add_function(operator.or_, 2)\n",
    "pset.add_function(operator.not_, 1)"
   ]
  },
  {
   "cell_type": "markdown",
   "metadata": {},
   "source": [
    "# Create the individual and population\n",
    "Our objective is to **maximize** the number of samples that are correctly predicted by the evolved model. That is, the fitness of an individual is evaluated by *number of hits*.\n",
    "## Define the indiviudal class, a subclass of *gep.Chromosome*"
   ]
  },
  {
   "cell_type": "code",
   "execution_count": 4,
   "metadata": {},
   "outputs": [],
   "source": [
    "from deap import creator, base, tools\n",
    "\n",
    "creator.create(\"FitnessMax\", base.Fitness, weights=(1,))  # to maximize the objective (fitness)\n",
    "creator.create(\"Individual\", gep.Chromosome, fitness=creator.FitnessMax)"
   ]
  },
  {
   "cell_type": "markdown",
   "metadata": {},
   "source": [
    "## Register the individual and population creation operations\n",
    "In DEAP, it is recommended to register the operations used in evolution into a *toolbox* to make full use of DEAP functionality. In *geppy*, a `geppy.Toolbox` class is also provided which inherits `deap.base.Toolbox`. For The configuration of individuals in this problem is:\n",
    "+ head length of each gene is 5\n",
    "+ each chromosome (individual) is composed of two genes.\n",
    "+ the linking function is chosen to be *OR*. In practice, we may need to try different linking functions.\n",
    "\n",
    "Generally, more complicated problems require a larger head length and longer chromosomes formed with more genes."
   ]
  },
  {
   "cell_type": "code",
   "execution_count": 5,
   "metadata": {},
   "outputs": [],
   "source": [
    "h = 5   # head length\n",
    "n_genes = 2   # number of genes in a chromosome\n",
    "toolbox = gep.Toolbox()\n",
    "toolbox.register('gene_gen', gep.Gene, pset=pset, head_length=h)\n",
    "toolbox.register('individual', creator.Individual, gene_gen=toolbox.gene_gen, n_genes=n_genes, linker=operator.or_)\n",
    "toolbox.register(\"population\", tools.initRepeat, list, toolbox.individual)\n",
    "\n",
    "# compile utility: which translates an individual into an executable function (Lambda)\n",
    "toolbox.register('compile', gep.compile_, pset=pset)"
   ]
  },
  {
   "cell_type": "markdown",
   "metadata": {},
   "source": [
    "# Define the fitness evaluation function\n",
    "In DEAP, the single objective optimization problem is just a special case of more general multiobjective ones. Since *geppy* is built on top of DEAP, it conforms to this convention. **Even if the fitness only contains one measure, keep in mind that DEAP stores it as an iterable.** \n",
    "\n",
    "Knowing that, you can understand why the evaluation function must return a tuple value (even if it is a 1-tuple). That's also why we set ``weights=(1,)`` when creating the ``FitnessMax`` class."
   ]
  },
  {
   "cell_type": "code",
   "execution_count": 6,
   "metadata": {},
   "outputs": [],
   "source": [
    "def evaluate(individual):\n",
    "    \"\"\"Evalute the fitness of an individual\"\"\"\n",
    "    func = toolbox.compile(individual)  # a lambda function\n",
    "    n_correct = 0\n",
    "    for (a, b, c, d), y in zip(X, Y):\n",
    "        prediction = func(a, b, c, d)\n",
    "        if prediction == y:\n",
    "            n_correct += 1\n",
    "    return n_correct,"
   ]
  },
  {
   "cell_type": "code",
   "execution_count": 7,
   "metadata": {},
   "outputs": [],
   "source": [
    "toolbox.register('evaluate', evaluate)"
   ]
  },
  {
   "cell_type": "markdown",
   "metadata": {},
   "source": [
    "# Register genetic operators\n",
    "Compared with GP and other genetic algorithms, GEP has its own set of genetic operators aside from common mutation and crossover. For details, please check the tutorial [Introduction to gene expression programming](https://geppy.readthedocs.io/en/latest/intro_GEP.html).\n",
    "\n",
    "In the following code, the selection operator is ``tools.selRoulette`` provided by DEAP, while all other operators are specially designed for GEP in *geppy*. To learn about the details regarding operator design and registration, please check the [conventions for operator design & registration](https://geppy.readthedocs.io/en/latest/index.html) tutorial. In short, we mainly focus on two kinds of operators with modification power: general mutations starting with *mut* and general crossover operators starting with *cx*. For such kinds of operators, a probability for their application is also needed. You can use as many operators as you like as long as they follow the conventions."
   ]
  },
  {
   "cell_type": "code",
   "execution_count": 8,
   "metadata": {},
   "outputs": [],
   "source": [
    "toolbox.register('select', tools.selRoulette)\n",
    "\n",
    "## general mutations whose aliases start with 'mut'\n",
    "# We can specify the probability for an operator with the .pbs property\n",
    "toolbox.register('mut_uniform', gep.mutate_uniform, pset=pset, ind_pb=2 / (2 * h + 1))\n",
    "toolbox.pbs['mut_uniform'] = 0.1\n",
    "# Alternatively, assign the probability along with registration using the pb keyword argument.\n",
    "toolbox.register('mut_invert', gep.invert, pb=0.1)\n",
    "toolbox.register('mut_is_ts', gep.is_transpose, pb=0.1)\n",
    "toolbox.register('mut_ris_ts', gep.ris_transpose, pb=0.1)\n",
    "toolbox.register('mut_gene_ts', gep.gene_transpose, pb=0.1)\n",
    "\n",
    "## general crossover whose aliases start with 'cx'\n",
    "toolbox.register('cx_1p', gep.crossover_one_point, pb=0.1)\n",
    "toolbox.pbs['cx_1p'] = 0.4   # just show that the probability can be overwritten\n",
    "toolbox.register('cx_2p', gep.crossover_two_point, pb=0.2)\n",
    "toolbox.register('cx_gene', gep.crossover_gene, pb=0.1)"
   ]
  },
  {
   "cell_type": "markdown",
   "metadata": {},
   "source": [
    "# Statistics to be inspected\n",
    "We often need to monitor of progress of an evolutionary program. DEAP offers two classes to handle the boring work of recording statistics. Details are presented in [Computing statistics](http://deap.readthedocs.io/en/master/tutorials/basic/part3.html). In the following, we are intereted in the average/standard deviation/min/max of all the individuals' fitness in each generation."
   ]
  },
  {
   "cell_type": "code",
   "execution_count": 9,
   "metadata": {},
   "outputs": [],
   "source": [
    "import numpy \n",
    "\n",
    "stats = tools.Statistics(key=lambda ind: ind.fitness.values[0])\n",
    "stats.register(\"avg\", numpy.mean)\n",
    "stats.register(\"std\", numpy.std)\n",
    "stats.register(\"min\", numpy.min)\n",
    "stats.register(\"max\", numpy.max)"
   ]
  },
  {
   "cell_type": "markdown",
   "metadata": {},
   "source": [
    "# Launch evolution\n",
    "We make use of *geppy*'s builtin algorithm ``gep_simple`` here to perform the standard GEP evolution. A special class from DEAP, `HallOfFame`, is adopted to store the best individuals ever found. Besides, it should be noted that in GEP [*elitism*](https://en.wikipedia.org/wiki/Genetic_algorithm#Elitism) is highly recommended because some genetic operators in GEP are destructive and may destroy the best individual we have evolved."
   ]
  },
  {
   "cell_type": "code",
   "execution_count": 10,
   "metadata": {},
   "outputs": [],
   "source": [
    "# this section is just for reproduction purpose since evolutionary algorithms all involve randomness\n",
    "import random\n",
    "random.seed(123)"
   ]
  },
  {
   "cell_type": "code",
   "execution_count": 11,
   "metadata": {},
   "outputs": [
    {
     "name": "stdout",
     "output_type": "stream",
     "text": [
      "gen\tnevals\tavg \tstd   \tmin\tmax\n",
      "0  \t50    \t8.38\t2.6145\t2  \t14 \n",
      "1  \t45    \t9.14\t2.1167\t6  \t14 \n",
      "2  \t40    \t9.96\t2.23571\t6  \t14 \n",
      "3  \t36    \t10.22\t2.28289\t6  \t14 \n",
      "4  \t36    \t10.22\t2.02277\t6  \t14 \n",
      "5  \t36    \t10.3 \t1.86815\t6  \t14 \n",
      "6  \t39    \t9.98 \t2.12123\t4  \t14 \n",
      "7  \t34    \t10.42\t1.97069\t6  \t14 \n",
      "8  \t34    \t10.16\t2.0036 \t5  \t14 \n",
      "9  \t38    \t10.52\t2.55531\t2  \t14 \n",
      "10 \t34    \t10.46\t2.30833\t6  \t14 \n",
      "11 \t34    \t10.78\t2.46   \t6  \t14 \n",
      "12 \t39    \t11.64\t2.25175\t6  \t16 \n",
      "13 \t40    \t11.14\t2.89834\t2  \t16 \n",
      "14 \t37    \t11.84\t2.38629\t6  \t16 \n",
      "15 \t39    \t11.28\t2.49832\t6  \t16 \n",
      "16 \t36    \t11.62\t2.62975\t6  \t16 \n",
      "17 \t40    \t12.2 \t2.498  \t6  \t16 \n",
      "18 \t37    \t12.3 \t2.69258\t6  \t16 \n",
      "19 \t35    \t12.46\t2.55507\t6  \t16 \n",
      "20 \t32    \t12.26\t2.77712\t2  \t16 \n",
      "21 \t29    \t12.46\t2.94761\t4  \t16 \n",
      "22 \t34    \t12.48\t2.98154\t2  \t16 \n",
      "23 \t30    \t12.64\t2.95134\t2  \t16 \n",
      "24 \t37    \t12.26\t2.89005\t4  \t16 \n",
      "25 \t34    \t12.3 \t3.18904\t4  \t16 \n",
      "26 \t38    \t12.68\t2.98288\t2  \t16 \n",
      "27 \t40    \t12.68\t2.67163\t4  \t16 \n",
      "28 \t34    \t13.36\t2.05679\t10 \t16 \n",
      "29 \t36    \t13.08\t2.80599\t2  \t16 \n",
      "30 \t39    \t13.06\t2.75978\t6  \t16 \n",
      "31 \t39    \t12.94\t2.56445\t6  \t16 \n",
      "32 \t31    \t12.8 \t2.5923 \t6  \t16 \n",
      "33 \t29    \t13.3 \t2.33452\t7  \t16 \n",
      "34 \t41    \t13.18\t2.551  \t6  \t16 \n",
      "35 \t36    \t13.56\t2.17403\t6  \t16 \n",
      "36 \t37    \t13.36\t2.55155\t6  \t16 \n",
      "37 \t39    \t12.86\t2.73503\t4  \t16 \n",
      "38 \t43    \t13.12\t2.55844\t6  \t16 \n",
      "39 \t34    \t13.14\t2.72037\t4  \t16 \n",
      "40 \t39    \t12.94\t2.42   \t7  \t16 \n",
      "41 \t37    \t12.1 \t3.06757\t2  \t16 \n",
      "42 \t39    \t12.42\t2.82906\t8  \t16 \n",
      "43 \t36    \t12.44\t2.66203\t8  \t16 \n",
      "44 \t36    \t11.88\t2.84   \t4  \t16 \n",
      "45 \t41    \t11.68\t3.30115\t4  \t16 \n",
      "46 \t36    \t12.14\t3.2864 \t4  \t16 \n",
      "47 \t31    \t12.46\t2.97463\t4  \t16 \n",
      "48 \t32    \t12.78\t2.73708\t8  \t16 \n",
      "49 \t41    \t12.92\t2.81311\t7  \t16 \n",
      "50 \t36    \t12.54\t3.26931\t4  \t16 \n"
     ]
    }
   ],
   "source": [
    "# size of population and number of generations\n",
    "n_pop = 50\n",
    "n_gen = 50\n",
    "\n",
    "pop = toolbox.population(n=n_pop)\n",
    "hof = tools.HallOfFame(1)   # only record the best individual ever found in all generations\n",
    "\n",
    "# start evolution\n",
    "pop, log = gep.gep_simple(pop, toolbox,\n",
    "                          n_generations=n_gen, n_elites=2,\n",
    "                          stats=stats, hall_of_fame=hof, verbose=True)"
   ]
  },
  {
   "cell_type": "markdown",
   "metadata": {},
   "source": [
    "As we can see, after few generations, the maximum fitness is 16. Remember that we only have 16 samples in total. Thus, it takes 20 generations to find a perfect model. Now let's print the best individual to investigate what we have found."
   ]
  },
  {
   "cell_type": "code",
   "execution_count": 12,
   "metadata": {},
   "outputs": [
    {
     "name": "stdout",
     "output_type": "stream",
     "text": [
      "or_(\n",
      "\tand_(a, d),\n",
      "\tnot_(c)\n",
      ")\n"
     ]
    }
   ],
   "source": [
    "best = hof[0]\n",
    "print(best)"
   ]
  },
  {
   "cell_type": "markdown",
   "metadata": {},
   "source": [
    "The above output shows: \n",
    "+ the linking function is `or_`\n",
    "+ the two genes encode two functions respectively: `not_(c)` and `and_(c, and_(and_(c, a), d))`\n",
    "\n",
    "Since the gene has a head domain of length 5, the length of the tail is $5*(2-1)+1=6$. That is, the whole length of a gene is 11. If you are interested in the content of a gene, you can check it with `repr`. It is clearly demonstrated that in GEP though each gene has a fixed length, the expression tree (or sub-tree in a multigenic chromosome) translated from a gene can have various sizes."
   ]
  },
  {
   "cell_type": "code",
   "execution_count": 13,
   "metadata": {},
   "outputs": [
    {
     "name": "stdout",
     "output_type": "stream",
     "text": [
      "- Content of the two genes: \n",
      "<class 'geppy.core.entity.Gene'> [and_, a, d, c, a, b, d, d, b, c, a]\n",
      "<class 'geppy.core.entity.Gene'> [not_, c, and_, and_, d, d, c, b, b, d, a]\n",
      "- K-expression of the two genes\n",
      "[and_, a, d]\n",
      "[not_, c]\n"
     ]
    }
   ],
   "source": [
    "# [optional] check the 11 primitives of each gene\n",
    "print('- Content of the two genes: ')\n",
    "for gene in best:\n",
    "    print(repr(gene))\n",
    "#[optional] we can also check the K-expression (only including primitives that are expressed) of a gene\n",
    "print('- K-expression of the two genes')\n",
    "for gene in best:\n",
    "    print(gene.kexpression)"
   ]
  },
  {
   "cell_type": "markdown",
   "metadata": {},
   "source": [
    "# *[Optional]* Post-processing: simplification and visualization\n",
    "## Symbolic simplification of the final solution\n",
    "After the GEP evolution finishes, we can get the best individual (i.e., the best solution) best. Sometimes, the expression of the individual may involve a lot of redundancies. For example, x∗x+3∗y−y+(10−2)/4 is just x∗x+2∗y+2. \n",
    "However, the GEP evolution cannot realize this fact and thus the result we get are generally not simplified. \n",
    "\n",
    "In this problem, the final solution *best* seems more complicated than the true function $f$. Thus, it would be quite helpful if we can get a simplified version of the model we found by removing all the redundancies for better comparison and verification.*geppy* has provided a convenient function `simplify()` to perform symbolic simplification of the individual (solution) by leveraging the `sympy` package."
   ]
  },
  {
   "cell_type": "code",
   "execution_count": 14,
   "metadata": {},
   "outputs": [
    {
     "name": "stdout",
     "output_type": "stream",
     "text": [
      "Symplified best individual: \n",
      "~c | (a & d)\n"
     ]
    }
   ],
   "source": [
    "symplified_best = gep.simplify(best)\n",
    "print('Symplified best individual: ')\n",
    "print(symplified_best)"
   ]
  },
  {
   "cell_type": "markdown",
   "metadata": {},
   "source": [
    "Clearly, after simplification the best individual evolved by GEP is just the ideal function $f$. More importantly, GEP can perform implicit variable (feature) selection effectively: though we provide it with four inputs, GEP only picks the three useful inputs `a, c, d`."
   ]
  },
  {
   "cell_type": "markdown",
   "metadata": {},
   "source": [
    "## Visualization\n",
    "If you are interested in the expression tree corresponding to the individual, i.e., the genotype/phenotype system, *geppy* supports tree visualization by the `graph` and the `export_expression_tree` functions:\n",
    "\n",
    "- `graph` only outputs the nodes and links information to describe the tree topology, with which you can render the tree with tools you like;\n",
    "- `export_expression_tree` implements tree visualization with data generated by `graph` internally using the `graphviz` package. "
   ]
  },
  {
   "cell_type": "code",
   "execution_count": 15,
   "metadata": {},
   "outputs": [],
   "source": [
    "rename_labels = {'and_': '&', 'or_': '|', 'not_': '~'}   # we want use symbol labels instead of words in the tree graph\n",
    "gep.export_expression_tree(best, rename_labels, 'data/bool_tree.png')"
   ]
  },
  {
   "cell_type": "code",
   "execution_count": 17,
   "metadata": {},
   "outputs": [
    {
     "data": {
      "image/png": "[encoded data removed]",
      "text/plain": [
       "<IPython.core.display.Image object>"
      ]
     },
     "execution_count": 17,
     "metadata": {},
     "output_type": "execute_result"
    }
   ],
   "source": [
    "# show the above image here for convenience\n",
    "from IPython.display import Image\n",
    "Image(filename='data/bool_tree.png') "
   ]
  }
 ],
 "metadata": {
  "kernelspec": {
   "display_name": "Python 3",
   "language": "python",
   "name": "python3"
  },
  "language_info": {
   "codemirror_mode": {
    "name": "ipython",
    "version": 3
   },
   "file_extension": ".py",
   "mimetype": "text/x-python",
   "name": "python",
   "nbconvert_exporter": "python",
   "pygments_lexer": "ipython3",
   "version": "3.6.5"
  }
 },
 "nbformat": 4,
 "nbformat_minor": 2
}
