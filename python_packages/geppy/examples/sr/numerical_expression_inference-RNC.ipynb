{
 "cells": [
  {
   "cell_type": "markdown",
   "metadata": {},
   "source": [
    "# Numerical expression inference problem: the GEP-RNC algorithm\n",
    "In this example, we aim to identify a mathematicalfunction $f$ from the given input-ouput data such that the function $f$ can produce the expected ouput given a certain input. This is a typical [symbolic regression](https://en.wikipedia.org/wiki/Symbolic_regression) problem:\n",
    "\n",
    "> Symbolic regression is a type of regression analysis that searches the space of mathematical expressions to find the model that best fits a given dataset, both in terms of accuracy and simplicity.\n",
    "\n",
    "which is most commonly solved with genetic programming and its variant, gene expression programming (GEP), presented here. \n",
    "\n",
    "Before continuing this example, you'd better first go through the two fundamental tutorials listed below to get familiar with GEP and *geppy*:\n",
    "+ [Introduction to gene expression programming](https://geppy.readthedocs.io/en/latest/intro_GEP.html)\n",
    "+ [Overview of geppy for Gene Expression Programming (GEP)](https://geppy.readthedocs.io/en/latest/overview.html)\n",
    "\n",
    "The main difference of this problem w.r.t the [Boolean function identification](Boolean_function_identification.ipynb) problem is that generally a mathematical model involves constant coefficients, which is more challenging for both genetic programming (GP) and GEP. The standard way to handle numerical constants in GEP is to add another Dc domain in the genes dedicated to random numerical constant (RNC) evolution, i.e., the GEP-RNC algorithm. Please check Chapter 5 of *Ferreira, Cândida. Gene expression programming: mathematical modeling by an artificial intelligence. Vol. 21. Springer, 2006.* to learn more about the theory.\n",
    "\n",
    "Alternatively, if the involved numerical constants are just simple integers, then the traditional ephemeral numerical constant (ENC) method can also be used, though it is not recommended in GEP. See the example [ENC for numerical expression inference](./numerical_expression_inference-ENC.ipynb).\n",
    "\n",
    "To check the detailed documentation of each function/class in *geppy*, please refer to [library reference](https://geppy.readthedocs.io/en/latest/#library-reference)."
   ]
  },
  {
   "cell_type": "code",
   "execution_count": 1,
   "metadata": {},
   "outputs": [],
   "source": [
    "import geppy as gep\n",
    "from deap import creator, base, tools\n",
    "import numpy as np\n",
    "import random\n",
    "\n",
    "# for reproduction\n",
    "s = 0\n",
    "random.seed(s)\n",
    "np.random.seed(s)"
   ]
  },
  {
   "cell_type": "markdown",
   "metadata": {},
   "source": [
    "# Synthetic dataset\n",
    "\n",
    "For this simple task, we first choose a ground truth function $f$ to generate a dataset $D$. Then, 50 input-output exampels are generated randomly."
   ]
  },
  {
   "cell_type": "code",
   "execution_count": 2,
   "metadata": {},
   "outputs": [],
   "source": [
    "def f(x):\n",
    "    \"\"\"Ground truth function\"\"\"\n",
    "    return -2 * x ** 2 + 11 * x + 13"
   ]
  },
  {
   "cell_type": "code",
   "execution_count": 3,
   "metadata": {},
   "outputs": [],
   "source": [
    "n_cases = 100\n",
    "X = np.random.uniform(-10, 10, size=n_cases)   # random numbers in range [-10, 10)\n",
    "Y = f(X) + np.random.normal(size=n_cases) # Gaussian noise"
   ]
  },
  {
   "cell_type": "markdown",
   "metadata": {},
   "source": [
    "# Creating the primitives set\n",
    "The first step in GEP (or GP as well) is to specify the primitive set, which contains the elementary building blocks to formulate the model. For this problem, we have:\n",
    "+ function set: the standard arithmetic operators addition (+), subtraction (-), multiplication (*), and division (/).\n",
    "+ terminal set: only the single input 'x' and random numerical constants (RNC).\n",
    "\n",
    "NOTE:\n",
    "\n",
    "- We define a *protected division* to avoid dividing by zero.\n",
    "- Even there may be multiple RNCs in the model, we only need to call `PrimitiveSet.add_rnc` once."
   ]
  },
  {
   "cell_type": "code",
   "execution_count": 4,
   "metadata": {},
   "outputs": [],
   "source": [
    "def protected_div(x1, x2):\n",
    "    if abs(x2) < 1e-6:\n",
    "        return 1\n",
    "    return x1 / x2"
   ]
  },
  {
   "cell_type": "code",
   "execution_count": 5,
   "metadata": {},
   "outputs": [],
   "source": [
    "import operator \n",
    "\n",
    "pset = gep.PrimitiveSet('Main', input_names=['x'])\n",
    "pset.add_function(operator.add, 2)\n",
    "pset.add_function(operator.sub, 2)\n",
    "pset.add_function(operator.mul, 2)\n",
    "pset.add_function(protected_div, 2)\n",
    "pset.add_rnc_terminal()"
   ]
  },
  {
   "cell_type": "markdown",
   "metadata": {},
   "source": [
    "# Create the individual and population\n",
    "Our objective is to **minimize** the MSE (mean squared error) for data fitting.\n",
    "## Define the indiviudal class, a subclass of *gep.Chromosome*"
   ]
  },
  {
   "cell_type": "code",
   "execution_count": 6,
   "metadata": {},
   "outputs": [],
   "source": [
    "from deap import creator, base, tools\n",
    "\n",
    "creator.create(\"FitnessMin\", base.Fitness, weights=(-1,))  # to minimize the objective (fitness)\n",
    "creator.create(\"Individual\", gep.Chromosome, fitness=creator.FitnessMin)"
   ]
  },
  {
   "cell_type": "markdown",
   "metadata": {},
   "source": [
    "## Register the individual and population creation operations\n",
    "In DEAP, it is recommended to register the operations used in evolution into a *toolbox* to make full use of DEAP functionality. The configuration of individuals in this problem is:\n",
    "+ head length: 6\n",
    "+ number of genes in each chromosome: 2\n",
    "+ RNC array length: 8\n",
    "\n",
    "Generally, more complicated problems require a larger head length and longer chromosomes formed with more genes. **The most important is that we should use the `GeneDc` class for genes to make use of the GEP-RNC algorithm.**"
   ]
  },
  {
   "cell_type": "code",
   "execution_count": 7,
   "metadata": {},
   "outputs": [],
   "source": [
    "h = 6 # head length\n",
    "n_genes = 2   # number of genes in a chromosome\n",
    "r = 8   # length of the RNC array"
   ]
  },
  {
   "cell_type": "code",
   "execution_count": 8,
   "metadata": {},
   "outputs": [],
   "source": [
    "toolbox = gep.Toolbox()\n",
    "toolbox.register('rnc_gen', random.randint, a=-5, b=5)   # each RNC is random integer within [-5, 5]\n",
    "toolbox.register('gene_gen', gep.GeneDc, pset=pset, head_length=h, rnc_gen=toolbox.rnc_gen, rnc_array_length=r)\n",
    "toolbox.register('individual', creator.Individual, gene_gen=toolbox.gene_gen, n_genes=n_genes, linker=operator.add)\n",
    "toolbox.register(\"population\", tools.initRepeat, list, toolbox.individual)\n",
    "\n",
    "# compile utility: which translates an individual into an executable function (Lambda)\n",
    "toolbox.register('compile', gep.compile_, pset=pset)"
   ]
  },
  {
   "cell_type": "markdown",
   "metadata": {},
   "source": [
    "# Define the fitness evaluation function\n",
    "In DEAP, the single objective optimization problem is just a special case of more general multiobjective ones. Since *geppy* is built on top of DEAP, it conforms to this convention. **Even if the fitness only contains one measure, keep in mind that DEAP stores it as an iterable.** \n",
    "\n",
    "Knowing that, you can understand why the evaluation function must return a tuple value (even if it is a 1-tuple). That's also why we set ``weights=(-1,)`` when creating the ``FitnessMax`` class."
   ]
  },
  {
   "cell_type": "code",
   "execution_count": 9,
   "metadata": {},
   "outputs": [],
   "source": [
    "def evaluate(individual):\n",
    "    \"\"\"Evalute the fitness of an individual: MAE (mean absolute error)\"\"\"\n",
    "    func = toolbox.compile(individual)\n",
    "    Yp = np.array(list(map(func, X)))\n",
    "    return np.mean(np.abs(Y - Yp)),"
   ]
  },
  {
   "cell_type": "code",
   "execution_count": 10,
   "metadata": {},
   "outputs": [],
   "source": [
    "toolbox.register('evaluate', evaluate)"
   ]
  },
  {
   "cell_type": "markdown",
   "metadata": {},
   "source": [
    "# Register genetic operators\n",
    "Compared with GP and other genetic algorithms, GEP has its own set of genetic operators aside from common mutation and crossover. For details, please check the tutorial [Introduction to gene expression programming](https://geppy.readthedocs.io/en/latest/intro_GEP.html).\n",
    "\n",
    "In the following code, the selection operator is ``tools.selTournament`` provided by DEAP, while all other operators are specially designed for GEP in *geppy*."
   ]
  },
  {
   "cell_type": "code",
   "execution_count": 11,
   "metadata": {},
   "outputs": [],
   "source": [
    "toolbox.register('select', tools.selTournament, tournsize=3)\n",
    "# 1. general operators\n",
    "toolbox.register('mut_uniform', gep.mutate_uniform, pset=pset, ind_pb=0.05, pb=1)\n",
    "toolbox.register('mut_invert', gep.invert, pb=0.1)\n",
    "toolbox.register('mut_is_transpose', gep.is_transpose, pb=0.1)\n",
    "toolbox.register('mut_ris_transpose', gep.ris_transpose, pb=0.1)\n",
    "toolbox.register('mut_gene_transpose', gep.gene_transpose, pb=0.1)\n",
    "toolbox.register('cx_1p', gep.crossover_one_point, pb=0.3)\n",
    "toolbox.register('cx_2p', gep.crossover_two_point, pb=0.2)\n",
    "toolbox.register('cx_gene', gep.crossover_gene, pb=0.1)\n",
    "# 2. Dc-specific operators\n",
    "toolbox.register('mut_dc', gep.mutate_uniform_dc, ind_pb=0.05, pb=1)\n",
    "toolbox.register('mut_invert_dc', gep.invert_dc, pb=0.1)\n",
    "toolbox.register('mut_transpose_dc', gep.transpose_dc, pb=0.1)\n",
    "# for some uniform mutations, we can also assign the ind_pb a string to indicate our expected number of point mutations in an individual\n",
    "toolbox.register('mut_rnc_array_dc', gep.mutate_rnc_array_dc, rnc_gen=toolbox.rnc_gen, ind_pb='0.5p')\n",
    "toolbox.pbs['mut_rnc_array_dc'] = 1  # we can also give the probability via the pbs property"
   ]
  },
  {
   "cell_type": "markdown",
   "metadata": {},
   "source": [
    "# Statistics to be inspected\n",
    "We often need to monitor of progress of an evolutionary program. DEAP offers two classes to handle the boring work of recording statistics. Details are presented in [Computing statistics](http://deap.readthedocs.io/en/master/tutorials/basic/part3.html). In the following, we are intereted in the average/standard deviation/min/max of all the individuals' fitness in each generation."
   ]
  },
  {
   "cell_type": "code",
   "execution_count": 12,
   "metadata": {},
   "outputs": [],
   "source": [
    "stats = tools.Statistics(key=lambda ind: ind.fitness.values[0])\n",
    "stats.register(\"avg\", np.mean)\n",
    "stats.register(\"std\", np.std)\n",
    "stats.register(\"min\", np.min)\n",
    "stats.register(\"max\", np.max)"
   ]
  },
  {
   "cell_type": "markdown",
   "metadata": {},
   "source": [
    "# Launch evolution\n",
    "We make use of *geppy*'s builtin algorithm ``gep_rnc`` here to perform the GEP-RNC evolution. A special class from DEAP, `HallOfFame`, is adopted to store the best individuals ever found. Besides, it should be noted that in GEP [*elitism*](https://en.wikipedia.org/wiki/Genetic_algorithm#Elitism) is highly recommended because some genetic operators in GEP are destructive and may destroy the best individual we have evolved."
   ]
  },
  {
   "cell_type": "code",
   "execution_count": 13,
   "metadata": {},
   "outputs": [
    {
     "name": "stdout",
     "output_type": "stream",
     "text": [
      "gen\tnevals\tavg    \tstd    \tmin    \tmax    \n",
      "0  \t100   \t81.9249\t27.7577\t54.9895\t261.298\n",
      "1  \t99    \t71.8922\t10.4668\t42.0433\t136.346\n",
      "2  \t99    \t89.6798\t205.708\t38.9218\t2131.62\n",
      "3  \t99    \t69.0112\t17.4721\t28.2459\t165.384\n",
      "4  \t99    \t66.6045\t16.1314\t27.3629\t120.876\n",
      "5  \t99    \t87.5899\t169.74 \t14.3539\t1728.69\n",
      "6  \t99    \t62.2542\t27.1422\t14.3539\t225.294\n",
      "7  \t99    \t58.4688\t29.2628\t14.3539\t228.513\n",
      "8  \t99    \t61.5411\t43.0892\t10.8169\t320.429\n",
      "9  \t99    \t76.703 \t96.8616\t7.82959\t905.788\n",
      "10 \t99    \t65.6228\t52.688 \t7.23691\t350.552\n",
      "11 \t99    \t52.7719\t42.748 \t7.23691\t390.783\n",
      "12 \t99    \t52.6757\t32.2696\t6.19445\t196.143\n",
      "13 \t99    \t58.4056\t67.1411\t6.19445\t603.211\n",
      "14 \t99    \t54.7206\t43.1564\t6.19445\t384.694\n",
      "15 \t99    \t61.7266\t57.6286\t6.19445\t562.3  \n",
      "16 \t99    \t62.236 \t64.4507\t6.19445\t553.836\n",
      "17 \t99    \t54.2323\t26.7546\t5.20662\t126    \n",
      "18 \t99    \t57.36  \t36.9686\t5.20662\t190.35 \n",
      "19 \t99    \t55.89  \t43.3556\t5.20662\t391.671\n",
      "20 \t99    \t55.3062\t33.5315\t5.20662\t196.9  \n",
      "21 \t99    \t64.8551\t67.2205\t5.20662\t461.723\n",
      "22 \t99    \t55.4499\t40.9975\t5.20662\t359.962\n",
      "23 \t99    \t63.9077\t59.7998\t5.20662\t497.032\n",
      "24 \t99    \t60.6148\t45.0208\t2.19233\t352.215\n",
      "25 \t99    \t65.4788\t57.0866\t2.19233\t317.802\n",
      "26 \t99    \t59.7687\t34.3705\t2.19233\t233.702\n",
      "27 \t99    \t55.8954\t35.7615\t2.19233\t229.517\n",
      "28 \t99    \t65.2489\t60.4526\t2.19233\t350.07 \n",
      "29 \t99    \t55.2768\t43.1746\t2.19233\t275.208\n",
      "30 \t99    \t62.0411\t57.9148\t2.19233\t384.602\n",
      "31 \t99    \t56.4574\t44.4184\t2.19233\t400.559\n",
      "32 \t99    \t61.116 \t46.1296\t2.19233\t310.008\n",
      "33 \t99    \t59.9242\t64.5759\t2.19233\t527.79 \n",
      "34 \t99    \t52.0573\t47.8412\t2.19233\t418.603\n",
      "35 \t99    \t51.1077\t34.7466\t2.19233\t172.653\n",
      "36 \t99    \t51.9047\t35.1705\t1.81533\t153.455\n",
      "37 \t99    \t53.2559\t54.2717\t1.26424\t409.769\n",
      "38 \t99    \t48.9181\t54.9365\t1.26424\t469.701\n",
      "39 \t99    \t61.3807\t50.6096\t1.26424\t321.551\n",
      "40 \t99    \t56.7819\t62.6169\t1.26424\t584.837\n",
      "41 \t99    \t56.4688\t56.099 \t1.26424\t400.877\n",
      "42 \t99    \t70.1829\t84.4915\t1.26424\t572.534\n",
      "43 \t99    \t67.2872\t51.1359\t1.26424\t344.732\n",
      "44 \t99    \t70.4533\t51.6825\t1.26424\t360.025\n",
      "45 \t99    \t56.8468\t27.1994\t1.26424\t148.491\n",
      "46 \t99    \t60.0492\t53.6085\t1.26424\t423.831\n",
      "47 \t99    \t60.5778\t51.8213\t1.26424\t456.758\n",
      "48 \t99    \t57.3062\t29.7781\t1.26424\t154.823\n",
      "49 \t99    \t64.3703\t47.9095\t1.26424\t380.063\n",
      "50 \t99    \t67.0773\t34.8398\t1.26424\t197.65 \n",
      "51 \t99    \t65.6332\t67.6813\t1.26424\t597.116\n",
      "52 \t99    \t66.4645\t50.6512\t1.26424\t309.812\n",
      "53 \t99    \t57.2602\t42.755 \t1.26424\t340.154\n",
      "54 \t99    \t59.8096\t44.072 \t1.26424\t343.946\n",
      "55 \t99    \t57.117 \t46.0569\t1.26424\t300.682\n",
      "56 \t99    \t52.1693\t35.121 \t1.26424\t225.555\n",
      "57 \t99    \t56.4192\t39.8198\t1.26424\t321.693\n",
      "58 \t99    \t64.084 \t66.2973\t1.26424\t553.953\n",
      "59 \t99    \t68.8069\t64.7468\t1.26424\t565.081\n",
      "60 \t99    \t113.454\t416.594\t1.26424\t4195.06\n",
      "61 \t99    \t78.2475\t186.809\t1.26424\t1886.92\n",
      "62 \t99    \t58.511 \t36.6339\t1.26424\t261.745\n",
      "63 \t99    \t69.9439\t55.7433\t1.26424\t389.991\n",
      "64 \t99    \t60.1303\t32.2181\t1.26424\t195.568\n",
      "65 \t99    \t67.1424\t61.3555\t1.26424\t443.46 \n",
      "66 \t99    \t59.0999\t41.8023\t1.053  \t289.554\n",
      "67 \t99    \t69.8371\t66.0053\t1.053  \t387.258\n",
      "68 \t99    \t57.724 \t44.2179\t1.053  \t318.028\n",
      "69 \t99    \t55.4516\t38.9926\t1.053  \t325.076\n",
      "70 \t99    \t74.1981\t90.6421\t1.053  \t713.565\n",
      "71 \t99    \t56.1714\t28.4973\t1.053  \t116.976\n",
      "72 \t99    \t71.9521\t130.616\t1.053  \t1275.08\n",
      "73 \t99    \t52.566 \t29.3444\t1.053  \t122.118\n",
      "74 \t99    \t57.2833\t48.0591\t1.053  \t335.459\n",
      "75 \t99    \t58.0169\t47.4673\t1.053  \t340.131\n",
      "76 \t99    \t66.5954\t72.7518\t0.862385\t604.953\n",
      "77 \t99    \t67.4795\t63.2768\t0.862385\t412.567\n",
      "78 \t99    \t52.1313\t31.9782\t0.862385\t154.569\n",
      "79 \t99    \t60.9233\t54.1341\t0.862385\t337.642\n",
      "80 \t99    \t70.3822\t69.1806\t0.862385\t404.612\n",
      "81 \t99    \t60.349 \t60.8916\t0.862385\t350.117\n",
      "82 \t99    \t74.5196\t108.664\t0.862385\t1007.5 \n",
      "83 \t99    \t55.9338\t42.6623\t0.862385\t238.225\n",
      "84 \t99    \t61.2702\t40.6852\t0.862385\t290.594\n",
      "85 \t99    \t56.5529\t48.7812\t0.862385\t281.886\n",
      "86 \t99    \t55.0713\t49.452 \t0.862385\t305.622\n",
      "87 \t99    \t58.2677\t55.9728\t0.862385\t329.931\n",
      "88 \t99    \t50.6493\t45.6795\t0.862385\t315.024\n",
      "89 \t99    \t83.8576\t278.425\t0.862385\t2812.45\n",
      "90 \t99    \t61.3165\t48.8682\t0.862385\t333.942\n",
      "91 \t99    \t70.0793\t72.1216\t0.862385\t469.624\n",
      "92 \t99    \t73.0283\t67.3937\t0.862385\t397.327\n",
      "93 \t99    \t65.8455\t57.3543\t0.862385\t320.251\n",
      "94 \t99    \t59.2353\t44.6736\t0.862385\t281.686\n",
      "95 \t99    \t62.9311\t59.0233\t0.862385\t366.806\n",
      "96 \t99    \t60.0013\t46.0675\t0.862385\t340.154\n",
      "97 \t99    \t59.7797\t36.6043\t0.862385\t314.996\n",
      "98 \t99    \t66.7211\t49.5114\t0.862385\t463.248\n",
      "99 \t99    \t68.0917\t46.0289\t0.862385\t336.926\n",
      "100\t99    \t68.4653\t50.176 \t0.862385\t324.995\n"
     ]
    }
   ],
   "source": [
    "# size of population and number of generations\n",
    "n_pop = 100\n",
    "n_gen = 100\n",
    "\n",
    "pop = toolbox.population(n=n_pop)\n",
    "hof = tools.HallOfFame(3)   # only record the best three individuals ever found in all generations\n",
    "\n",
    "# start evolution\n",
    "pop, log = gep.gep_simple(pop, toolbox, n_generations=n_gen, n_elites=1,\n",
    "                          stats=stats, hall_of_fame=hof, verbose=True)"
   ]
  },
  {
   "cell_type": "markdown",
   "metadata": {},
   "source": [
    "**Let's check the best individuals ever evolved.**"
   ]
  },
  {
   "cell_type": "code",
   "execution_count": 14,
   "metadata": {},
   "outputs": [
    {
     "name": "stdout",
     "output_type": "stream",
     "text": [
      "add(\n",
      "\tmul(sub(add(x, x), sub(-4, -3)), sub(5, x)),\n",
      "\tsub(add(sub(-3, -5), sub(x, -4)), sub(-2, x))\n",
      ")\n"
     ]
    }
   ],
   "source": [
    "print(hof[0])"
   ]
  },
  {
   "cell_type": "markdown",
   "metadata": {},
   "source": [
    "# *[optional]* Post-processing: simplification and visualization\n",
    "## Symbolic simplification of the final solution\n",
    "The original solution seems a little complicated, which may contain many redundancies, for example, `protected_div(x, x)` is just 1. We can perform symbolic simplification of the final result by `geppy.simplify` which depends on `sympy` package."
   ]
  },
  {
   "cell_type": "code",
   "execution_count": 15,
   "metadata": {},
   "outputs": [
    {
     "name": "stdout",
     "output_type": "stream",
     "text": [
      "Symplified best individual: \n",
      "-2*x**2 + 11*x + 13\n"
     ]
    }
   ],
   "source": [
    "best_ind = hof[0]\n",
    "symplified_best = gep.simplify(best_ind)\n",
    "print('Symplified best individual: ')\n",
    "print(symplified_best)"
   ]
  },
  {
   "cell_type": "markdown",
   "metadata": {},
   "source": [
    "As we can see from the above simplified expression, the *truth model* has been successfully found. Due to the existence of Gaussian noise, the minimum mean absolute error （MAE) is still not zero even the best individual represents the true model."
   ]
  },
  {
   "cell_type": "markdown",
   "metadata": {},
   "source": [
    "## Visualization\n",
    "If you are interested in the expression tree corresponding to the individual, i.e., the genotype/phenotype system, *geppy* supports tree visualization by the `graph` and the `export_expression_tree` functions:\n",
    "\n",
    "- `graph` only outputs the nodes and links information to describe the tree topology, with which you can render the tree with tools you like;\n",
    "- `export_expression_tree` implements tree visualization with data generated by `graph` internally using the `graphviz` package. "
   ]
  },
  {
   "cell_type": "code",
   "execution_count": 16,
   "metadata": {},
   "outputs": [],
   "source": [
    " # we want use symbol labels instead of words in the tree graph\n",
    "rename_labels = {'add': '+', 'sub': '-', 'mul': '*', 'protected_div': '/'}  \n",
    "gep.export_expression_tree(best_ind, rename_labels, 'data/numerical_expression_tree.png')"
   ]
  },
  {
   "cell_type": "code",
   "execution_count": 17,
   "metadata": {},
   "outputs": [
    {
     "data": {
      "image/png": "[encoded data removed]",
      "text/plain": [
       "<IPython.core.display.Image object>"
      ]
     },
     "execution_count": 17,
     "metadata": {},
     "output_type": "execute_result"
    }
   ],
   "source": [
    "# show the above image here for convenience\n",
    "from IPython.display import Image\n",
    "Image(filename='data/numerical_expression_tree.png') "
   ]
  },
  {
   "cell_type": "markdown",
   "metadata": {},
   "source": [
    "# Discussion\n",
    "If only integer constants are involved, then the GEP-RNC algorithm is very effective. If the constants are general real numbers, then more advanced techniques like local search may be more suitable.\n",
    "\n",
    "Alternatively, the ephemeral numerical constant (ENC) based method can also be adopted here. Please check [ENC for numerical expression inference](./numerical_expression_inference-ENC.ipynb).\n"
   ]
  }
 ],
 "metadata": {
  "kernelspec": {
   "display_name": "Python 3",
   "language": "python",
   "name": "python3"
  },
  "language_info": {
   "codemirror_mode": {
    "name": "ipython",
    "version": 3
   },
   "file_extension": ".py",
   "mimetype": "text/x-python",
   "name": "python",
   "nbconvert_exporter": "python",
   "pygments_lexer": "ipython3",
   "version": "3.6.5"
  }
 },
 "nbformat": 4,
 "nbformat_minor": 2
}
