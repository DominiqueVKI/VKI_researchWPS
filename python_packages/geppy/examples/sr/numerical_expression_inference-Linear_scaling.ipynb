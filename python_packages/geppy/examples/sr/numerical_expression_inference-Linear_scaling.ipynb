{
 "cells": [
  {
   "cell_type": "markdown",
   "metadata": {},
   "source": [
    "# Improving symbolic regression with linear scaling\n",
    "Generally, if the constants in a mathematical model are continuous real numbers, then it is difficult for both GP/GEP to find the true value of such constants. In many cases, GEP can obtain the true *structure* of the model very quickly, after which it will spend much more time in optimizing the constants. However, even with the [GEP-RNC](numerical_expression_inference-RNC.ipynb) algorithm proposed by Cândida Ferreira, it is still quite difficult for GEP to locate a good value for the constants, even after a lot of efforts have been spent by GEP.\n",
    "\n",
    "In the paper *Improving Symbolic Regression with Interval Arithmetic and Linear Scaling* and [*Scaled Symbolic Regression*](https://www.researchgate.net/publication/220286036_Scaled_Symbolic_Regression), a simple yet effective method is developed to improve symbolic regression of arbitrary mathematical expressions. The intuition of this method is that **by rescaling the expression found by GEP/GP to the optimal slope and intercept, it will focus its search on expressions that are close in shape with the target, instead of demanding that first the scale is correct. Thus, GEP/GP will focus on the construction of the model structure, which it is extremely good at, and the linear scaling technique can help find the constant coefficients.**\n",
    "\n",
    "We only need to change the evaluation routine when implementing the linear scaling technique. Instead of the original mean squared error (MSE) objective, first rescale the model by determining a pair of weights $(a, b)$ to \n",
    "\\begin{equation}\n",
    "min_{a,b} \\quad \\frac{1}{N} \\sum_{i=1}^N (y_i - (ay_{pi}+b))^2\n",
    "\\end{equation}\n",
    "where $y_i$ and $y_{pi}$ are the true value and predicted value for the $i^{th}$ example's target variable.\n",
    "\n",
    "Thus, if the best model found by GEP finally is $g(x)$, then the scaled model is $ag(x)+b$."
   ]
  },
  {
   "cell_type": "code",
   "execution_count": 1,
   "metadata": {},
   "outputs": [],
   "source": [
    "import geppy as gep\n",
    "from deap import creator, base, tools\n",
    "import numpy as np\n",
    "import random\n",
    "\n",
    "# for reproduction\n",
    "s = 10\n",
    "random.seed(s)\n",
    "np.random.seed(s)\n",
    "\n",
    "# whether enable linear scaling\n",
    "LINEAR_SCALING = True"
   ]
  },
  {
   "cell_type": "markdown",
   "metadata": {},
   "source": [
    "# Synthetic dataset\n",
    "\n",
    "For this simple task, we first choose a ground truth function $f$ to generate a dataset $D$. Then, 50 input-output exampels are generated randomly."
   ]
  },
  {
   "cell_type": "code",
   "execution_count": 2,
   "metadata": {},
   "outputs": [],
   "source": [
    "def f(x):\n",
    "    \"\"\"Ground truth function\"\"\"\n",
    "    return -2.45 * x ** 2 + 9.87 * x  + 14.56"
   ]
  },
  {
   "cell_type": "code",
   "execution_count": 3,
   "metadata": {},
   "outputs": [],
   "source": [
    "n_cases = 100\n",
    "X = np.random.uniform(-10, 10, size=n_cases)   # random numbers in range [-10, 10)\n",
    "Y = f(X) + np.random.normal(size=n_cases)   # Gaussian noise\n",
    "Y = f(X)"
   ]
  },
  {
   "cell_type": "markdown",
   "metadata": {},
   "source": [
    "# Creating the primitives set\n",
    "The first step in GEP (or GP as well) is to specify the primitive set, which contains the elementary building blocks to formulate the model. For this problem, we have:\n",
    "+ function set: the standard arithmetic operators addition (+), subtraction (-), multiplication (*), and division (/).\n",
    "+ terminal set: only the single input 'x' and random numerical constants (RNC).\n",
    "\n",
    "NOTE:\n",
    "\n",
    "- We define a *protected division* to avoid dividing by zero.\n",
    "- Even there may be multiple RNCs in the model, we only need to call `PrimitiveSet.add_rnc` once."
   ]
  },
  {
   "cell_type": "code",
   "execution_count": 4,
   "metadata": {},
   "outputs": [],
   "source": [
    "def protected_div(a, b):\n",
    "    if np.isscalar(b):\n",
    "        if abs(b) < 1e-6:\n",
    "            b = 1\n",
    "    else:\n",
    "        b[abs(b) < 1e-6] = 1\n",
    "    return a / b"
   ]
  },
  {
   "cell_type": "code",
   "execution_count": 5,
   "metadata": {},
   "outputs": [],
   "source": [
    "import operator \n",
    "\n",
    "pset = gep.PrimitiveSet('Main', input_names=['x'])\n",
    "pset.add_function(operator.add, 2)\n",
    "pset.add_function(operator.sub, 2)\n",
    "pset.add_function(operator.mul, 2)\n",
    "pset.add_function(protected_div, 2)\n",
    "pset.add_ephemeral_terminal(name='enc', gen=lambda: random.uniform(-5, 5)) # each ENC is a random integer within [-10, 10]"
   ]
  },
  {
   "cell_type": "markdown",
   "metadata": {},
   "source": [
    "# Create the individual and population\n",
    "Our objective is to **minimize** the MSE (mean squared error) for data fitting.\n",
    "## Define the indiviudal class, a subclass of *gep.Chromosome*"
   ]
  },
  {
   "cell_type": "code",
   "execution_count": 6,
   "metadata": {},
   "outputs": [],
   "source": [
    "from deap import creator, base, tools\n",
    "\n",
    "creator.create(\"FitnessMin\", base.Fitness, weights=(-1,))  # to minimize the objective (fitness)\n",
    "creator.create(\"Individual\", gep.Chromosome, fitness=creator.FitnessMin, a=float, b=float)"
   ]
  },
  {
   "cell_type": "markdown",
   "metadata": {},
   "source": [
    "## Register the individual and population creation operations\n",
    "In DEAP, it is recommended to register the operations used in evolution into a *toolbox* to make full use of DEAP functionality. The configuration of individuals in this problem is:\n",
    "+ head length: 6\n",
    "+ number of genes in each chromosome: 2\n",
    "\n",
    "Generally, more complicated problems require a larger head length and longer chromosomes formed with more genes."
   ]
  },
  {
   "cell_type": "code",
   "execution_count": 7,
   "metadata": {},
   "outputs": [],
   "source": [
    "h = 7 # head length\n",
    "n_genes = 2   # number of genes in a chromosome"
   ]
  },
  {
   "cell_type": "code",
   "execution_count": 8,
   "metadata": {},
   "outputs": [],
   "source": [
    "toolbox = gep.Toolbox()\n",
    "toolbox.register('gene_gen', gep.Gene, pset=pset, head_length=h)\n",
    "toolbox.register('individual', creator.Individual, gene_gen=toolbox.gene_gen, n_genes=n_genes, linker=operator.add)\n",
    "toolbox.register(\"population\", tools.initRepeat, list, toolbox.individual)\n",
    "\n",
    "# compile utility: which translates an individual into an executable function (Lambda)\n",
    "toolbox.register('compile', gep.compile_, pset=pset)"
   ]
  },
  {
   "cell_type": "markdown",
   "metadata": {},
   "source": [
    "# Define the fitness evaluation function\n",
    "In DEAP, the single objective optimization problem is just a special case of more general multiobjective ones. Since *geppy* is built on top of DEAP, it conforms to this convention. **Even if the fitness only contains one measure, keep in mind that DEAP stores it as an iterable.** \n",
    "\n",
    "Knowing that, you can understand why the evaluation function must return a tuple value (even if it is a 1-tuple). That's also why we set ``weights=(-1,)`` when creating the ``FitnessMax`` class."
   ]
  },
  {
   "cell_type": "code",
   "execution_count": 9,
   "metadata": {},
   "outputs": [],
   "source": [
    "def evaluate(individual):\n",
    "    \"\"\"Evalute the fitness of an individual: MSE (mean squared error)\"\"\"\n",
    "    func = toolbox.compile(individual)\n",
    "    Yp = func(X)   # predictions with the GEP model\n",
    "    return np.mean((Y - Yp) ** 2),"
   ]
  },
  {
   "cell_type": "code",
   "execution_count": 10,
   "metadata": {},
   "outputs": [],
   "source": [
    "def evaluate_linear_scaling(individual):\n",
    "    \"\"\"Evaluate the fitness of an individual with linearly scaled MSE.\n",
    "    Get a and b by minimizing (a*Yp + b - Y)\"\"\"\n",
    "    func = toolbox.compile(individual)\n",
    "    Yp = func(X)\n",
    "    \n",
    "    # special cases: (1) individual has only a terminal \n",
    "    #  (2) individual returns the same value for all test cases, like 'x - x + 10'. np.linalg.lstsq will fail in such cases.\n",
    "    \n",
    "    if isinstance(Yp, np.ndarray):\n",
    "        Q = np.hstack((np.reshape(Yp, (-1, 1)), np.ones((len(Yp), 1))))\n",
    "        (individual.a, individual.b), residuals, _, _ = np.linalg.lstsq(Q, Y, rcond=None)   \n",
    "        # residuals is the sum of squared errors\n",
    "        if residuals.size > 0:\n",
    "            return residuals[0] / len(Y),   # MSE\n",
    "    \n",
    "    # for the above special cases, the optimal linear scaling is just the mean of true target values\n",
    "    individual.a = 0\n",
    "    individual.b = np.mean(Y)\n",
    "    return np.mean((Y - individual.b) ** 2),"
   ]
  },
  {
   "cell_type": "code",
   "execution_count": 11,
   "metadata": {},
   "outputs": [],
   "source": [
    "if LINEAR_SCALING:\n",
    "    toolbox.register('evaluate', evaluate_linear_scaling)\n",
    "else:\n",
    "    toolbox.register('evaluate', evaluate)"
   ]
  },
  {
   "cell_type": "markdown",
   "metadata": {},
   "source": [
    "# Register genetic operators\n",
    "Compared with GP and other genetic algorithms, GEP has its own set of genetic operators aside from common mutation and crossover. For details, please check the tutorial [Introduction to gene expression programming](https://geppy.readthedocs.io/en/latest/intro_GEP.html).\n",
    "\n",
    "In the following code, the selection operator is ``tools.selTournament`` provided by DEAP, while all other operators are specially designed for GEP in *geppy*."
   ]
  },
  {
   "cell_type": "code",
   "execution_count": 12,
   "metadata": {},
   "outputs": [],
   "source": [
    "toolbox.register('select', tools.selTournament, tournsize=3)\n",
    "# 1. general operators\n",
    "toolbox.register('mut_uniform', gep.mutate_uniform, pset=pset, ind_pb=0.05, pb=1)\n",
    "toolbox.register('mut_invert', gep.invert, pb=0.1)\n",
    "toolbox.register('mut_is_transpose', gep.is_transpose, pb=0.1)\n",
    "toolbox.register('mut_ris_transpose', gep.ris_transpose, pb=0.1)\n",
    "toolbox.register('mut_gene_transpose', gep.gene_transpose, pb=0.1)\n",
    "toolbox.register('cx_1p', gep.crossover_one_point, pb=0.4)\n",
    "toolbox.register('cx_2p', gep.crossover_two_point, pb=0.2)\n",
    "toolbox.register('cx_gene', gep.crossover_gene, pb=0.1)\n",
    "toolbox.register('mut_ephemeral', gep.mutate_uniform_ephemeral, ind_pb='1p')  # 1p: expected one point mutation in an individual\n",
    "toolbox.pbs['mut_ephemeral'] = 1  # we can also give the probability via the pbs property"
   ]
  },
  {
   "cell_type": "markdown",
   "metadata": {},
   "source": [
    "# Statistics to be inspected\n",
    "We often need to monitor of progress of an evolutionary program. DEAP offers two classes to handle the boring work of recording statistics. Details are presented in [Computing statistics](http://deap.readthedocs.io/en/master/tutorials/basic/part3.html). In the following, we are intereted in the average/standard deviation/min/max of all the individuals' fitness in each generation."
   ]
  },
  {
   "cell_type": "code",
   "execution_count": 13,
   "metadata": {},
   "outputs": [],
   "source": [
    "stats = tools.Statistics(key=lambda ind: ind.fitness.values[0])\n",
    "stats.register(\"avg\", np.mean)\n",
    "stats.register(\"std\", np.std)\n",
    "stats.register(\"min\", np.min)\n",
    "stats.register(\"max\", np.max)"
   ]
  },
  {
   "cell_type": "markdown",
   "metadata": {},
   "source": [
    "# Launch evolution\n",
    "We make use of *geppy*'s builtin algorithm ``gep_rnc`` here to perform the GEP-RNC evolution. A special class from DEAP, `HallOfFame`, is adopted to store the best individuals ever found. Besides, it should be noted that in GEP [*elitism*](https://en.wikipedia.org/wiki/Genetic_algorithm#Elitism) is highly recommended because some genetic operators in GEP are destructive and may destroy the best individual we have evolved."
   ]
  },
  {
   "cell_type": "code",
   "execution_count": 14,
   "metadata": {},
   "outputs": [
    {
     "name": "stdout",
     "output_type": "stream",
     "text": [
      "gen\tnevals\tavg    \tstd    \tmin    \tmax    \n",
      "0  \t100   \t6025.31\t2181.39\t1.38458\t8775.92\n",
      "1  \t99    \t4833.99\t2055.84\t1.38458\t8775.92\n",
      "2  \t99    \t4259.64\t2051.55\t1.38458\t8775.92\n",
      "3  \t99    \t4191.34\t2535.8 \t1.35871\t8775.92\n",
      "4  \t99    \t3803.35\t2612.74\t0.0360462\t8775.92\n",
      "5  \t99    \t3118.3 \t2523.45\t0.0360462\t8749.3 \n",
      "6  \t99    \t2823.19\t2896.04\t0.0360462\t8775.92\n",
      "7  \t99    \t2526.52\t2731.62\t0.0277844\t8775.92\n",
      "8  \t99    \t2414.03\t2733.79\t0.0277844\t8775.92\n",
      "9  \t99    \t2874.17\t2910.11\t0.0277844\t8775.92\n",
      "10 \t99    \t2816.34\t2746.9 \t0.0277844\t8754.98\n",
      "11 \t99    \t2790.78\t2967.11\t0.00252793\t8775.92\n",
      "12 \t99    \t2800.64\t2989.78\t0.00252793\t8775.92\n",
      "13 \t99    \t2323.54\t2681.29\t0.00252793\t8775.92\n",
      "14 \t99    \t2292.09\t2648.86\t0.00252793\t8344.31\n",
      "15 \t99    \t2125.48\t2635.38\t0.00252793\t8775.92\n",
      "16 \t99    \t2718.88\t2875.46\t0.00252793\t8775.92\n",
      "17 \t99    \t2734.65\t2830.16\t0.00252793\t8775.92\n",
      "18 \t99    \t2699.24\t2709.54\t0.00252793\t8775.92\n",
      "19 \t99    \t2853.65\t3119.65\t0.00252793\t8775.92\n",
      "20 \t99    \t2744.36\t2832.32\t0.00252793\t8775.92\n",
      "21 \t99    \t2666.84\t2764.66\t0.00252793\t8775.92\n",
      "22 \t99    \t2634.35\t2877.85\t0.00252793\t8775.92\n",
      "23 \t99    \t2667.58\t3165.56\t0.00252793\t8775.92\n",
      "24 \t99    \t2622.79\t3146.84\t0.00252793\t8775.92\n",
      "25 \t99    \t2725.8 \t2883.89\t0.00252793\t8775.92\n",
      "26 \t99    \t3176.46\t2939.04\t0.00252793\t8775.92\n",
      "27 \t99    \t2707.19\t2930.24\t0.00252793\t8775.92\n",
      "28 \t99    \t2486.8 \t2879.1 \t0.00252793\t8775.92\n",
      "29 \t99    \t2873.86\t2961.16\t0.00252793\t8775.92\n",
      "30 \t99    \t2363.34\t2742.11\t0.00252793\t8775.92\n",
      "31 \t99    \t2538.78\t3001.62\t0.00252793\t8775.92\n",
      "32 \t99    \t2707.04\t2950.1 \t0.00252793\t8775.92\n",
      "33 \t99    \t2211.5 \t2586.93\t0.00252793\t8775.92\n",
      "34 \t99    \t3007.95\t3172.82\t0.00252793\t8775.92\n",
      "35 \t99    \t2536.62\t2620.22\t0.00252793\t8775.92\n",
      "36 \t99    \t3079.99\t2996.55\t0.00252793\t8775.92\n",
      "37 \t99    \t2573.43\t2671.52\t0.00252793\t8775.92\n",
      "38 \t99    \t2548.36\t2658.92\t0.00252793\t8775.92\n",
      "39 \t99    \t2493.23\t2775.03\t0.00252793\t8775.92\n",
      "40 \t99    \t2452.85\t2869.87\t0.00252793\t8775.92\n",
      "41 \t99    \t2224.84\t2751.59\t0.00252793\t8775.92\n",
      "42 \t99    \t1640.64\t2323.34\t0.00252793\t8439.4 \n",
      "43 \t99    \t1770.44\t2507.85\t5.97806e-05\t8775.92\n",
      "44 \t99    \t2395.13\t3151.17\t5.97806e-05\t8775.92\n",
      "45 \t99    \t2009.26\t2856.84\t5.97806e-05\t8775.92\n",
      "46 \t99    \t2091.16\t2676.9 \t5.97806e-05\t8775.92\n",
      "47 \t99    \t2005.28\t2560.24\t5.97806e-05\t8775.92\n",
      "48 \t99    \t1876.04\t2743.79\t5.97806e-05\t8775.92\n",
      "49 \t99    \t1760.83\t2744.91\t5.97806e-05\t8775.92\n",
      "50 \t99    \t1676.24\t2416.37\t5.97806e-05\t8775.92\n",
      "51 \t99    \t2612.49\t3280.33\t5.97806e-05\t8775.92\n",
      "52 \t99    \t2602.93\t2992.41\t5.97806e-05\t8775.92\n",
      "53 \t99    \t2222.3 \t2693.01\t5.97806e-05\t8775.92\n",
      "54 \t99    \t2439.63\t3094.93\t5.97806e-05\t8775.92\n",
      "55 \t99    \t2054.97\t2680.59\t5.97806e-05\t8775.92\n",
      "56 \t99    \t2231.06\t2957.3 \t5.97806e-05\t8775.92\n",
      "57 \t99    \t1518.18\t2395.78\t5.97806e-05\t8775.92\n",
      "58 \t99    \t2848.2 \t3104.3 \t5.97806e-05\t8775.92\n",
      "59 \t99    \t2490.17\t3018   \t5.97806e-05\t8775.92\n",
      "60 \t99    \t2148.35\t2767.27\t5.97806e-05\t8775.92\n",
      "61 \t99    \t1969.14\t2831.71\t5.97806e-05\t8775.92\n",
      "62 \t99    \t2224.64\t2867.48\t5.97806e-05\t8775.92\n",
      "63 \t99    \t2358.87\t2914.23\t5.97806e-05\t8775.92\n",
      "64 \t99    \t2765.81\t3124.97\t5.97806e-05\t8775.92\n",
      "65 \t99    \t1707.54\t2542.56\t5.97806e-05\t8775.92\n",
      "66 \t99    \t1852.55\t2629.4 \t5.97806e-05\t8775.92\n",
      "67 \t99    \t2345   \t3094.36\t5.97806e-05\t8775.92\n",
      "68 \t99    \t2114.86\t2616.41\t5.97806e-05\t8775.92\n",
      "69 \t99    \t2791.68\t3025.61\t5.97806e-05\t8775.92\n",
      "70 \t99    \t2767.98\t2951.77\t5.97806e-05\t8775.92\n",
      "71 \t99    \t3281.83\t3241.45\t5.97806e-05\t8775.92\n",
      "72 \t99    \t2576.48\t2983.63\t5.97806e-05\t8775.92\n",
      "73 \t99    \t2109.84\t2617.68\t5.97806e-05\t8775.92\n",
      "74 \t99    \t2523.81\t3081.93\t5.97806e-05\t8775.92\n",
      "75 \t99    \t2781.61\t2941.95\t5.97806e-05\t8775.92\n",
      "76 \t99    \t2182.43\t2777.31\t5.97806e-05\t8775.92\n",
      "77 \t99    \t2612.35\t3073.6 \t5.97806e-05\t8775.92\n",
      "78 \t99    \t2595.84\t2914.67\t5.97806e-05\t8775.92\n",
      "79 \t99    \t2909.38\t2982.13\t5.97806e-05\t8775.92\n",
      "80 \t99    \t3000.87\t3045.69\t5.97806e-05\t8775.92\n",
      "81 \t99    \t2236.84\t2788.87\t5.97806e-05\t8775.92\n",
      "82 \t99    \t2103.03\t2645.71\t5.97806e-05\t8775.92\n",
      "83 \t99    \t2068.25\t2749.68\t5.97806e-05\t8775.92\n",
      "84 \t99    \t2047.21\t2945.5 \t5.97806e-05\t8775.92\n",
      "85 \t99    \t2440.75\t3134.04\t5.97806e-05\t8775.92\n",
      "86 \t99    \t2666.72\t3040.8 \t5.97806e-05\t8775.92\n",
      "87 \t99    \t2735.58\t2982.61\t5.97806e-05\t8775.92\n",
      "88 \t99    \t2800.85\t3005.63\t5.97806e-05\t8775.92\n",
      "89 \t99    \t2356.94\t2828.97\t5.97806e-05\t8775.92\n",
      "90 \t99    \t2908.77\t2993.18\t5.97806e-05\t8775.92\n",
      "91 \t99    \t3014.83\t3277.47\t5.97806e-05\t8775.92\n",
      "92 \t99    \t2566.57\t2938.86\t5.97806e-05\t8775.92\n",
      "93 \t99    \t2326.82\t2979.93\t5.97806e-05\t8775.92\n",
      "94 \t99    \t1830.95\t2487.21\t5.97806e-05\t8775.92\n",
      "95 \t99    \t3016.39\t3260.22\t5.97806e-05\t8775.92\n",
      "96 \t99    \t2146.46\t2819.31\t5.97806e-05\t8775.92\n",
      "97 \t99    \t2532.65\t3135.74\t5.97806e-05\t8775.92\n",
      "98 \t99    \t2691.91\t3055.39\t5.97806e-05\t8775.92\n",
      "99 \t99    \t2334.23\t2917.69\t5.97806e-05\t8775.92\n",
      "100\t99    \t2615.43\t2781.56\t5.97806e-05\t8775.92\n",
      "101\t99    \t2704.34\t3104.79\t5.97806e-05\t8775.92\n",
      "102\t99    \t2181.25\t2897.61\t5.97806e-05\t8775.92\n",
      "103\t99    \t2225.99\t2954.17\t5.97806e-05\t8775.92\n",
      "104\t99    \t2977.04\t3414.37\t5.97806e-05\t8775.92\n",
      "105\t99    \t2540.4 \t3075.19\t5.97806e-05\t8775.92\n",
      "106\t99    \t2947.88\t3215.5 \t5.97806e-05\t8775.92\n",
      "107\t99    \t1983.93\t2746.81\t5.97806e-05\t8775.92\n",
      "108\t99    \t2596.98\t2981.99\t5.97806e-05\t8775.92\n",
      "109\t99    \t2883.61\t2949.5 \t5.97806e-05\t8775.92\n",
      "110\t99    \t2520.75\t2813.7 \t5.97806e-05\t8775.92\n",
      "111\t99    \t2125.13\t2545.08\t5.97806e-05\t8775.92\n",
      "112\t99    \t3111.19\t3045.69\t5.97806e-05\t8775.92\n",
      "113\t99    \t2634.09\t2792.73\t5.97806e-05\t8775.92\n",
      "114\t99    \t2890.39\t2752.61\t5.97806e-05\t8775.92\n",
      "115\t99    \t2418.67\t2686   \t5.97806e-05\t8775.92\n",
      "116\t99    \t2727.64\t2873.77\t5.97806e-05\t8775.92\n",
      "117\t99    \t1975.63\t2464.56\t5.97806e-05\t8775.92\n",
      "118\t99    \t2685.24\t2762.21\t5.97806e-05\t8775.92\n",
      "119\t99    \t3094.39\t3085.56\t5.97806e-05\t8775.92\n",
      "120\t99    \t2354.11\t2643.58\t5.97806e-05\t8775.92\n",
      "121\t99    \t3110.91\t2916.61\t5.97806e-05\t8775.92\n",
      "122\t99    \t2274.83\t2383.6 \t5.97806e-05\t8740.44\n",
      "123\t99    \t2746.13\t2830.07\t5.97806e-05\t8775.26\n",
      "124\t99    \t2506.71\t2612.15\t5.97806e-05\t8690.72\n",
      "125\t99    \t2407.81\t2494.98\t5.97806e-05\t7949.85\n",
      "126\t99    \t2483.86\t2642.38\t5.97806e-05\t8773.46\n",
      "127\t99    \t2798.05\t2537.35\t5.97806e-05\t8767.34\n",
      "128\t99    \t2725.73\t2580.47\t5.97806e-05\t8775.92\n",
      "129\t99    \t2677.56\t2585.12\t5.97806e-05\t8544.85\n",
      "130\t99    \t2576.59\t2470.17\t5.97806e-05\t8775.92\n",
      "131\t99    \t2758.97\t2671.46\t5.97806e-05\t8775.92\n",
      "132\t99    \t1911.01\t2432.05\t5.97806e-05\t8775.92\n",
      "133\t99    \t2450.55\t2569.71\t5.97806e-05\t8650.57\n",
      "134\t99    \t1933.91\t2405.76\t5.97806e-05\t8653.65\n",
      "135\t99    \t2294.52\t2665.99\t2.03544e-05\t8475.21\n",
      "136\t99    \t2669.75\t2679.83\t2.03544e-05\t8775.92\n",
      "137\t99    \t3088.73\t2863.77\t2.03544e-05\t8775.92\n",
      "138\t99    \t2846.03\t2563.91\t2.03544e-05\t8775.92\n",
      "139\t99    \t3330.76\t2616.49\t2.03544e-05\t8775.92\n",
      "140\t99    \t2854.26\t2476.8 \t2.03544e-05\t8775.92\n",
      "141\t99    \t2911.15\t2714.9 \t2.03544e-05\t8775.92\n",
      "142\t99    \t2774.65\t2626.47\t2.03544e-05\t8775.92\n",
      "143\t99    \t2446.25\t2611.29\t2.03544e-05\t8775.92\n",
      "144\t99    \t2868.5 \t2648.97\t2.03544e-05\t8775.92\n",
      "145\t99    \t2824.21\t2766.75\t2.03544e-05\t8775.92\n",
      "146\t99    \t2592.19\t2526.87\t2.03544e-05\t8724.19\n",
      "147\t99    \t2890.1 \t2572.33\t2.03544e-05\t8775.92\n",
      "148\t99    \t2631.69\t2548.77\t2.03544e-05\t8775.92\n",
      "149\t99    \t2895.96\t2624.96\t2.03544e-05\t8775.92\n",
      "150\t99    \t3066.97\t2600.94\t2.03544e-05\t8775.42\n",
      "151\t99    \t3049.04\t2445.04\t2.03544e-05\t8775.92\n",
      "152\t99    \t2904.76\t2888.83\t2.03544e-05\t8775.92\n",
      "153\t99    \t3521.12\t2713.18\t2.03544e-05\t8775.92\n",
      "154\t99    \t2765.99\t2694.67\t2.03544e-05\t8775.92\n",
      "155\t99    \t2990.38\t2950.5 \t2.03544e-05\t8775.92\n",
      "156\t99    \t3352.09\t3030.57\t2.03544e-05\t8775.92\n",
      "157\t99    \t2816.67\t2731.1 \t2.03544e-05\t8775.92\n",
      "158\t99    \t2523.48\t2954.53\t2.03544e-05\t8775.92\n",
      "159\t99    \t2714.6 \t2991.28\t2.03544e-05\t8775.92\n",
      "160\t99    \t2593.45\t3069.47\t2.03544e-05\t8775.92\n",
      "161\t99    \t2838.91\t3388.73\t2.03544e-05\t8775.92\n",
      "162\t99    \t2502.47\t3211.28\t2.03544e-05\t8775.92\n",
      "163\t99    \t2464.66\t2858.7 \t2.03544e-05\t8775.92\n",
      "164\t99    \t3508.26\t3536.53\t2.03544e-05\t8775.92\n",
      "165\t99    \t3124.72\t3404.43\t2.03544e-05\t8775.92\n",
      "166\t99    \t2960.68\t3265.5 \t2.03544e-05\t8775.92\n",
      "167\t99    \t3591.91\t3389.7 \t2.03544e-05\t8775.92\n",
      "168\t99    \t2718.91\t3031.44\t2.03544e-05\t8775.92\n",
      "169\t99    \t3078.77\t3177.14\t2.03544e-05\t8775.92\n",
      "170\t99    \t2876.81\t3337.35\t2.03544e-05\t8775.92\n",
      "171\t99    \t3317.18\t3429.56\t2.03544e-05\t8775.92\n",
      "172\t99    \t3652.62\t3471.92\t2.03544e-05\t8775.92\n",
      "173\t99    \t3209.91\t3431.5 \t2.03544e-05\t8775.92\n",
      "174\t99    \t3011.77\t3179.57\t2.03544e-05\t8775.92\n",
      "175\t99    \t2807.53\t3057.61\t2.03544e-05\t8775.92\n"
     ]
    },
    {
     "name": "stdout",
     "output_type": "stream",
     "text": [
      "176\t99    \t3232.18\t3247.32\t2.03544e-05\t8775.92\n",
      "177\t99    \t2433.82\t2966.71\t2.03544e-05\t8775.92\n",
      "178\t99    \t3398.92\t3452.68\t2.03544e-05\t8775.92\n",
      "179\t99    \t3287.07\t3326.25\t2.03544e-05\t8775.92\n",
      "180\t99    \t2918.58\t2965.84\t2.03544e-05\t8775.92\n",
      "181\t99    \t2616.89\t3134.6 \t2.03544e-05\t8775.92\n",
      "182\t99    \t2958.97\t3126.32\t2.03544e-05\t8775.92\n",
      "183\t99    \t2994.2 \t3406.16\t2.03544e-05\t8775.92\n",
      "184\t99    \t2748.53\t3060.63\t2.03544e-05\t8775.92\n",
      "185\t99    \t3379.25\t3234.97\t2.03544e-05\t8775.92\n",
      "186\t99    \t3434.18\t3107.3 \t2.03544e-05\t8775.92\n",
      "187\t99    \t3031.62\t3011.17\t2.03544e-05\t8775.92\n",
      "188\t99    \t3080.71\t3074.14\t2.03544e-05\t8775.92\n",
      "189\t99    \t3021   \t3177.33\t2.03544e-05\t8775.92\n",
      "190\t99    \t3026.25\t3396.39\t2.03544e-05\t8775.92\n",
      "191\t99    \t2821.39\t3175.62\t2.03544e-05\t8775.92\n",
      "192\t99    \t3034.38\t3304.77\t2.03544e-05\t8775.92\n",
      "193\t99    \t3001.04\t3412.74\t2.03544e-05\t8775.92\n",
      "194\t99    \t3168.81\t3301.92\t2.03544e-05\t8775.92\n",
      "195\t99    \t2786.51\t3327.88\t2.03544e-05\t8775.92\n",
      "196\t99    \t3905.83\t3523.9 \t2.03544e-05\t8775.92\n",
      "197\t99    \t3077.89\t3141.52\t2.03544e-05\t8775.92\n",
      "198\t99    \t3148.71\t3262.91\t2.03544e-05\t8775.92\n",
      "199\t99    \t2487.5 \t3050.76\t2.03544e-05\t8775.92\n",
      "200\t99    \t2934.91\t3209.69\t2.03544e-05\t8775.92\n"
     ]
    }
   ],
   "source": [
    "# size of population and number of generations\n",
    "n_pop = 100\n",
    "n_gen = 200\n",
    "\n",
    "pop = toolbox.population(n=n_pop)\n",
    "hof = tools.HallOfFame(3)   # only record the best three individuals ever found in all generations\n",
    "\n",
    "# start evolution\n",
    "pop, log = gep.gep_simple(pop, toolbox, n_generations=n_gen, n_elites=1,\n",
    "                          stats=stats, hall_of_fame=hof, verbose=True)"
   ]
  },
  {
   "cell_type": "markdown",
   "metadata": {},
   "source": [
    "**Let's check the best individuals ever evolved.**"
   ]
  },
  {
   "cell_type": "code",
   "execution_count": 15,
   "metadata": {},
   "outputs": [
    {
     "name": "stdout",
     "output_type": "stream",
     "text": [
      "add(\n",
      "\tmul(4.591167176881115, mul(4.591167176881115, -4.380112794188509)),\n",
      "\tmul(add(-4.028140048087353, x), protected_div(x, mul(2.55884200770239, 4.760460688934424)))\n",
      ")\n"
     ]
    }
   ],
   "source": [
    "print(hof[0])"
   ]
  },
  {
   "cell_type": "markdown",
   "metadata": {},
   "source": [
    "# *[optional]* Post-processing: simplification and visualization\n",
    "## Symbolic simplification of the final solution\n",
    "The original solution seems a little complicated, which may contain many redundancies, for example, `protected_div(x, x)` is just 1. We can perform symbolic simplification of the final result by `geppy.simplify` which depends on `sympy` package."
   ]
  },
  {
   "cell_type": "code",
   "execution_count": 16,
   "metadata": {},
   "outputs": [
    {
     "name": "stdout",
     "output_type": "stream",
     "text": [
      "Symplified best individual 0: \n",
      "-2.45009584303344*x*(x - 4.02814004808735) + 14.5627104231744\n",
      "Symplified best individual 1: \n",
      "-2.45009584303344*x*(x - 4.02814004808735) + 14.5627104231744\n",
      "Symplified best individual 2: \n",
      "-2.45009584303344*x*(x - 4.02814004808735) + 14.5627104231744\n"
     ]
    }
   ],
   "source": [
    "for i in range(3):\n",
    "    ind = hof[i]\n",
    "    symplified_model = gep.simplify(ind)\n",
    "    if LINEAR_SCALING:\n",
    "        symplified_model = ind.a * symplified_model + ind.b\n",
    "    print('Symplified best individual {}: '.format(i))\n",
    "    print(symplified_model)"
   ]
  },
  {
   "cell_type": "markdown",
   "metadata": {},
   "source": [
    "As we can see from the above simplified expression, the *truth model* has been successfully found. Due to the existence of Gaussian noise, the minimum mean absolute error （MAE) is still not zero even the best individual represents the true model."
   ]
  },
  {
   "cell_type": "markdown",
   "metadata": {},
   "source": [
    "## Visualization\n",
    "If you are interested in the expression tree corresponding to the individual, i.e., the genotype/phenotype system, *geppy* supports tree visualization by the `graph` and the `export_expression_tree` functions:\n",
    "\n",
    "- `graph` only outputs the nodes and links information to describe the tree topology, with which you can render the tree with tools you like;\n",
    "- `export_expression_tree` implements tree visualization with data generated by `graph` internally using the `graphviz` package. "
   ]
  },
  {
   "cell_type": "code",
   "execution_count": 17,
   "metadata": {},
   "outputs": [],
   "source": [
    " # we want use symbol labels instead of words in the tree graph\n",
    "rename_labels = {'add': '+', 'sub': '-', 'mul': '*', 'protected_div': '/'}  \n",
    "best_ind = hof[0]\n",
    "gep.export_expression_tree(best_ind, rename_labels, 'data/numerical_expression_tree.png')"
   ]
  },
  {
   "cell_type": "code",
   "execution_count": 18,
   "metadata": {},
   "outputs": [
    {
     "data": {
      "image/png": "[encoded data removed]",
      "text/plain": [
       "<IPython.core.display.Image object>"
      ]
     },
     "execution_count": 18,
     "metadata": {},
     "output_type": "execute_result"
    }
   ],
   "source": [
    "# show the above image here for convenience\n",
    "from IPython.display import Image\n",
    "Image(filename='data/numerical_expression_tree.png') "
   ]
  },
  {
   "cell_type": "markdown",
   "metadata": {},
   "source": [
    "# Discussion\n",
    "**With the given no-noise data, a normal GEP can only find a model with $MSE=52.0646$, though the model structure is right. By contrast, linear scaling-enabled GEP obtains a solution with $MSE=2.03544e^{-5}$, which is qualified to be considered as the true model.**\n",
    "\n",
    "If only integer constants are involved, then the GEP-RNC algorithm and the ENC-based algorithm can both be adopted. However, generally the GEP-RNC algorithm is more effective.\n",
    "\n",
    "In other cases where the model is more complicated involving real coefficients and constants, then both of the above two algorithms will have difficulty in optimizing these constants. A better way is to incorporate a local optimizater into GEP dedicated to constant number optimization, or use other techniques like the linear scaling here. "
   ]
  },
  {
   "cell_type": "code",
   "execution_count": null,
   "metadata": {},
   "outputs": [],
   "source": []
  }
 ],
 "metadata": {
  "kernelspec": {
   "display_name": "Python 3",
   "language": "python",
   "name": "python3"
  },
  "language_info": {
   "codemirror_mode": {
    "name": "ipython",
    "version": 3
   },
   "file_extension": ".py",
   "mimetype": "text/x-python",
   "name": "python",
   "nbconvert_exporter": "python",
   "pygments_lexer": "ipython3",
   "version": "3.6.5"
  }
 },
 "nbformat": 4,
 "nbformat_minor": 2
}
